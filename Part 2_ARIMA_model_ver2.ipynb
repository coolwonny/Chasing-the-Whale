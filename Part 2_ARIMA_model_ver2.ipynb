{
 "cells": [
  {
   "cell_type": "code",
   "execution_count": 2,
   "metadata": {},
   "outputs": [],
   "source": [
    "import pandas as pd\n",
    "import numpy as np\n",
    "%matplotlib inline"
   ]
  },
  {
   "cell_type": "code",
   "execution_count": 3,
   "metadata": {},
   "outputs": [
    {
     "data": {
      "text/html": [
       "<div>\n",
       "<style scoped>\n",
       "    .dataframe tbody tr th:only-of-type {\n",
       "        vertical-align: middle;\n",
       "    }\n",
       "\n",
       "    .dataframe tbody tr th {\n",
       "        vertical-align: top;\n",
       "    }\n",
       "\n",
       "    .dataframe thead th {\n",
       "        text-align: right;\n",
       "    }\n",
       "</style>\n",
       "<table border=\"1\" class=\"dataframe\">\n",
       "  <thead>\n",
       "    <tr style=\"text-align: right;\">\n",
       "      <th></th>\n",
       "      <th>Market Return</th>\n",
       "      <th>Portfolio Return without Rebalancing</th>\n",
       "      <th>Portfolio Return with Rebalancing</th>\n",
       "      <th>Portfolio Return with Lagged Rebalancing</th>\n",
       "    </tr>\n",
       "    <tr>\n",
       "      <th>Date</th>\n",
       "      <th></th>\n",
       "      <th></th>\n",
       "      <th></th>\n",
       "      <th></th>\n",
       "    </tr>\n",
       "  </thead>\n",
       "  <tbody>\n",
       "    <tr>\n",
       "      <th>2018-06-29</th>\n",
       "      <td>NaN</td>\n",
       "      <td>NaN</td>\n",
       "      <td>NaN</td>\n",
       "      <td>NaN</td>\n",
       "    </tr>\n",
       "    <tr>\n",
       "      <th>2018-07-02</th>\n",
       "      <td>1.002766</td>\n",
       "      <td>1.003619</td>\n",
       "      <td>1.003619</td>\n",
       "      <td>NaN</td>\n",
       "    </tr>\n",
       "    <tr>\n",
       "      <th>2018-07-03</th>\n",
       "      <td>0.998673</td>\n",
       "      <td>0.996927</td>\n",
       "      <td>0.996927</td>\n",
       "      <td>NaN</td>\n",
       "    </tr>\n",
       "    <tr>\n",
       "      <th>2018-07-05</th>\n",
       "      <td>1.007006</td>\n",
       "      <td>1.005320</td>\n",
       "      <td>1.005320</td>\n",
       "      <td>NaN</td>\n",
       "    </tr>\n",
       "    <tr>\n",
       "      <th>2018-07-06</th>\n",
       "      <td>1.015414</td>\n",
       "      <td>1.011935</td>\n",
       "      <td>1.011935</td>\n",
       "      <td>NaN</td>\n",
       "    </tr>\n",
       "  </tbody>\n",
       "</table>\n",
       "</div>"
      ],
      "text/plain": [
       "            Market Return  Portfolio Return without Rebalancing  \\\n",
       "Date                                                              \n",
       "2018-06-29            NaN                                   NaN   \n",
       "2018-07-02       1.002766                              1.003619   \n",
       "2018-07-03       0.998673                              0.996927   \n",
       "2018-07-05       1.007006                              1.005320   \n",
       "2018-07-06       1.015414                              1.011935   \n",
       "\n",
       "            Portfolio Return with Rebalancing  \\\n",
       "Date                                            \n",
       "2018-06-29                                NaN   \n",
       "2018-07-02                           1.003619   \n",
       "2018-07-03                           0.996927   \n",
       "2018-07-05                           1.005320   \n",
       "2018-07-06                           1.011935   \n",
       "\n",
       "            Portfolio Return with Lagged Rebalancing  \n",
       "Date                                                  \n",
       "2018-06-29                                       NaN  \n",
       "2018-07-02                                       NaN  \n",
       "2018-07-03                                       NaN  \n",
       "2018-07-05                                       NaN  \n",
       "2018-07-06                                       NaN  "
      ]
     },
     "execution_count": 3,
     "metadata": {},
     "output_type": "execute_result"
    }
   ],
   "source": [
    "from pathlib import Path\n",
    "csvpath = Path('./Resources/berkshire_final.csv')\n",
    "df = pd.read_csv(csvpath, index_col='Date', parse_dates=True, infer_datetime_format=True)\n",
    "df.head()"
   ]
  },
  {
   "cell_type": "code",
   "execution_count": 4,
   "metadata": {},
   "outputs": [
    {
     "data": {
      "text/html": [
       "<div>\n",
       "<style scoped>\n",
       "    .dataframe tbody tr th:only-of-type {\n",
       "        vertical-align: middle;\n",
       "    }\n",
       "\n",
       "    .dataframe tbody tr th {\n",
       "        vertical-align: top;\n",
       "    }\n",
       "\n",
       "    .dataframe thead th {\n",
       "        text-align: right;\n",
       "    }\n",
       "</style>\n",
       "<table border=\"1\" class=\"dataframe\">\n",
       "  <thead>\n",
       "    <tr style=\"text-align: right;\">\n",
       "      <th></th>\n",
       "      <th>Market Return</th>\n",
       "      <th>Portfolio Return without Rebalancing</th>\n",
       "      <th>Portfolio Return with Rebalancing</th>\n",
       "      <th>Portfolio Return with Lagged Rebalancing</th>\n",
       "    </tr>\n",
       "    <tr>\n",
       "      <th>Date</th>\n",
       "      <th></th>\n",
       "      <th></th>\n",
       "      <th></th>\n",
       "      <th></th>\n",
       "    </tr>\n",
       "  </thead>\n",
       "  <tbody>\n",
       "    <tr>\n",
       "      <th>2018-07-02</th>\n",
       "      <td>1.002766</td>\n",
       "      <td>1.003619</td>\n",
       "      <td>1.003619</td>\n",
       "      <td>NaN</td>\n",
       "    </tr>\n",
       "    <tr>\n",
       "      <th>2018-07-03</th>\n",
       "      <td>0.998673</td>\n",
       "      <td>0.996927</td>\n",
       "      <td>0.996927</td>\n",
       "      <td>NaN</td>\n",
       "    </tr>\n",
       "    <tr>\n",
       "      <th>2018-07-05</th>\n",
       "      <td>1.007006</td>\n",
       "      <td>1.005320</td>\n",
       "      <td>1.005320</td>\n",
       "      <td>NaN</td>\n",
       "    </tr>\n",
       "    <tr>\n",
       "      <th>2018-07-06</th>\n",
       "      <td>1.015414</td>\n",
       "      <td>1.011935</td>\n",
       "      <td>1.011935</td>\n",
       "      <td>NaN</td>\n",
       "    </tr>\n",
       "    <tr>\n",
       "      <th>2018-07-09</th>\n",
       "      <td>1.024706</td>\n",
       "      <td>1.024373</td>\n",
       "      <td>1.024373</td>\n",
       "      <td>NaN</td>\n",
       "    </tr>\n",
       "  </tbody>\n",
       "</table>\n",
       "</div>"
      ],
      "text/plain": [
       "            Market Return  Portfolio Return without Rebalancing  \\\n",
       "Date                                                              \n",
       "2018-07-02       1.002766                              1.003619   \n",
       "2018-07-03       0.998673                              0.996927   \n",
       "2018-07-05       1.007006                              1.005320   \n",
       "2018-07-06       1.015414                              1.011935   \n",
       "2018-07-09       1.024706                              1.024373   \n",
       "\n",
       "            Portfolio Return with Rebalancing  \\\n",
       "Date                                            \n",
       "2018-07-02                           1.003619   \n",
       "2018-07-03                           0.996927   \n",
       "2018-07-05                           1.005320   \n",
       "2018-07-06                           1.011935   \n",
       "2018-07-09                           1.024373   \n",
       "\n",
       "            Portfolio Return with Lagged Rebalancing  \n",
       "Date                                                  \n",
       "2018-07-02                                       NaN  \n",
       "2018-07-03                                       NaN  \n",
       "2018-07-05                                       NaN  \n",
       "2018-07-06                                       NaN  \n",
       "2018-07-09                                       NaN  "
      ]
     },
     "execution_count": 4,
     "metadata": {},
     "output_type": "execute_result"
    }
   ],
   "source": [
    "df = df.iloc[1:]\n",
    "df.head()"
   ]
  },
  {
   "cell_type": "code",
   "execution_count": 5,
   "metadata": {
    "scrolled": true
   },
   "outputs": [
    {
     "data": {
      "text/plain": [
       "<matplotlib.axes._subplots.AxesSubplot at 0x124e65b6188>"
      ]
     },
     "execution_count": 5,
     "metadata": {},
     "output_type": "execute_result"
    },
    {
     "data": {
      "image/png": "[encoded data removed]",
      "text/plain": [
       "<Figure size 432x288 with 1 Axes>"
      ]
     },
     "metadata": {
      "needs_background": "light"
     },
     "output_type": "display_data"
    }
   ],
   "source": [
    "df.plot()"
   ]
  },
  {
   "cell_type": "code",
   "execution_count": 6,
   "metadata": {},
   "outputs": [
    {
     "data": {
      "text/html": [
       "<div>\n",
       "<style scoped>\n",
       "    .dataframe tbody tr th:only-of-type {\n",
       "        vertical-align: middle;\n",
       "    }\n",
       "\n",
       "    .dataframe tbody tr th {\n",
       "        vertical-align: top;\n",
       "    }\n",
       "\n",
       "    .dataframe thead th {\n",
       "        text-align: right;\n",
       "    }\n",
       "</style>\n",
       "<table border=\"1\" class=\"dataframe\">\n",
       "  <thead>\n",
       "    <tr style=\"text-align: right;\">\n",
       "      <th></th>\n",
       "      <th>Market Return</th>\n",
       "      <th>Portfolio Return with Rebalancing</th>\n",
       "    </tr>\n",
       "    <tr>\n",
       "      <th>Date</th>\n",
       "      <th></th>\n",
       "      <th></th>\n",
       "    </tr>\n",
       "  </thead>\n",
       "  <tbody>\n",
       "    <tr>\n",
       "      <th>2018-07-02</th>\n",
       "      <td>1.002766</td>\n",
       "      <td>1.003619</td>\n",
       "    </tr>\n",
       "    <tr>\n",
       "      <th>2018-07-03</th>\n",
       "      <td>0.998673</td>\n",
       "      <td>0.996927</td>\n",
       "    </tr>\n",
       "  </tbody>\n",
       "</table>\n",
       "</div>"
      ],
      "text/plain": [
       "            Market Return  Portfolio Return with Rebalancing\n",
       "Date                                                        \n",
       "2018-07-02       1.002766                           1.003619\n",
       "2018-07-03       0.998673                           0.996927"
      ]
     },
     "execution_count": 6,
     "metadata": {},
     "output_type": "execute_result"
    }
   ],
   "source": [
    "# dropping out two columns\n",
    "data_df = df.drop(columns=['Portfolio Return without Rebalancing', 'Portfolio Return with Lagged Rebalancing'])\n",
    "data_df.head(2)"
   ]
  },
  {
   "cell_type": "code",
   "execution_count": 7,
   "metadata": {},
   "outputs": [
    {
     "data": {
      "text/html": [
       "<div>\n",
       "<style scoped>\n",
       "    .dataframe tbody tr th:only-of-type {\n",
       "        vertical-align: middle;\n",
       "    }\n",
       "\n",
       "    .dataframe tbody tr th {\n",
       "        vertical-align: top;\n",
       "    }\n",
       "\n",
       "    .dataframe thead th {\n",
       "        text-align: right;\n",
       "    }\n",
       "</style>\n",
       "<table border=\"1\" class=\"dataframe\">\n",
       "  <thead>\n",
       "    <tr style=\"text-align: right;\">\n",
       "      <th></th>\n",
       "      <th>Portfolio Return with Rebalancing</th>\n",
       "    </tr>\n",
       "    <tr>\n",
       "      <th>Date</th>\n",
       "      <th></th>\n",
       "    </tr>\n",
       "  </thead>\n",
       "  <tbody>\n",
       "    <tr>\n",
       "      <th>2018-07-02</th>\n",
       "      <td>1.003619</td>\n",
       "    </tr>\n",
       "    <tr>\n",
       "      <th>2018-07-03</th>\n",
       "      <td>0.996927</td>\n",
       "    </tr>\n",
       "  </tbody>\n",
       "</table>\n",
       "</div>"
      ],
      "text/plain": [
       "            Portfolio Return with Rebalancing\n",
       "Date                                         \n",
       "2018-07-02                           1.003619\n",
       "2018-07-03                           0.996927"
      ]
     },
     "execution_count": 7,
     "metadata": {},
     "output_type": "execute_result"
    }
   ],
   "source": [
    "portfolio = df[\"Portfolio Return with Rebalancing\"].to_frame().dropna()\n",
    "portfolio.head(2)"
   ]
  },
  {
   "cell_type": "markdown",
   "metadata": {},
   "source": [
    "### Augmented Dickey-Fuller Test"
   ]
  },
  {
   "cell_type": "code",
   "execution_count": 8,
   "metadata": {
    "scrolled": false
   },
   "outputs": [
    {
     "data": {
      "text/plain": [
       "(-2.447300949839298,\n",
       " 0.12882850614236474,\n",
       " 9,\n",
       " 528,\n",
       " {'1%': -3.4427957890025533,\n",
       "  '5%': -2.867029512430173,\n",
       "  '10%': -2.5696937122646926},\n",
       " -2834.4495670524875)"
      ]
     },
     "execution_count": 8,
     "metadata": {},
     "output_type": "execute_result"
    }
   ],
   "source": [
    "from statsmodels.tsa.stattools import adfuller\n",
    "adfuller(portfolio)"
   ]
  },
  {
   "cell_type": "markdown",
   "metadata": {},
   "source": [
    "P-value is more than 0.05 indicating the data is non-statinary"
   ]
  },
  {
   "cell_type": "code",
   "execution_count": 9,
   "metadata": {},
   "outputs": [
    {
     "data": {
      "image/png": "[encoded data removed]",
      "text/plain": [
       "<Figure size 432x288 with 1 Axes>"
      ]
     },
     "execution_count": 9,
     "metadata": {},
     "output_type": "execute_result"
    },
    {
     "data": {
      "image/png": "[encoded data removed]",
      "text/plain": [
       "<Figure size 432x288 with 1 Axes>"
      ]
     },
     "metadata": {
      "needs_background": "light"
     },
     "output_type": "display_data"
    }
   ],
   "source": [
    "from statsmodels.graphics.tsaplots import plot_acf, plot_pacf\n",
    "# Plot the autocorrelation of the Settle Prices\n",
    "plot_acf(portfolio, zero=False, lags=30)"
   ]
  },
  {
   "cell_type": "code",
   "execution_count": 10,
   "metadata": {},
   "outputs": [
    {
     "data": {
      "image/png": "[encoded data removed]",
      "text/plain": [
       "<Figure size 432x288 with 1 Axes>"
      ]
     },
     "execution_count": 10,
     "metadata": {},
     "output_type": "execute_result"
    },
    {
     "data": {
      "image/png": "[encoded data removed]",
      "text/plain": [
       "<Figure size 432x288 with 1 Axes>"
      ]
     },
     "metadata": {
      "needs_background": "light"
     },
     "output_type": "display_data"
    }
   ],
   "source": [
    "# Plot the partial autocorrelation of the returns\n",
    "plot_pacf(portfolio, zero=False, lags=30)"
   ]
  },
  {
   "cell_type": "code",
   "execution_count": 11,
   "metadata": {},
   "outputs": [
    {
     "name": "stdout",
     "output_type": "stream",
     "text": [
      "Performing stepwise search to minimize aic\n",
      " ARIMA(1,1,1)(0,0,0)[0] intercept   : AIC=-2886.713, Time=0.42 sec\n",
      " ARIMA(0,1,0)(0,0,0)[0] intercept   : AIC=-2842.876, Time=0.10 sec\n",
      " ARIMA(1,1,0)(0,0,0)[0] intercept   : AIC=-2883.445, Time=0.21 sec\n",
      " ARIMA(0,1,1)(0,0,0)[0] intercept   : AIC=-2872.225, Time=0.51 sec\n",
      " ARIMA(0,1,0)(0,0,0)[0]             : AIC=-2844.608, Time=0.03 sec\n",
      " ARIMA(2,1,1)(0,0,0)[0] intercept   : AIC=-2887.862, Time=0.71 sec\n",
      " ARIMA(2,1,0)(0,0,0)[0] intercept   : AIC=-2891.925, Time=0.17 sec\n",
      " ARIMA(3,1,0)(0,0,0)[0] intercept   : AIC=-2894.708, Time=0.21 sec\n",
      " ARIMA(4,1,0)(0,0,0)[0] intercept   : AIC=-2902.052, Time=0.69 sec\n",
      " ARIMA(5,1,0)(0,0,0)[0] intercept   : AIC=-2901.004, Time=1.09 sec\n",
      " ARIMA(4,1,1)(0,0,0)[0] intercept   : AIC=-2899.502, Time=0.35 sec\n",
      " ARIMA(3,1,1)(0,0,0)[0] intercept   : AIC=-2930.179, Time=0.93 sec\n",
      " ARIMA(3,1,2)(0,0,0)[0] intercept   : AIC=-2923.387, Time=1.03 sec\n",
      " ARIMA(2,1,2)(0,0,0)[0] intercept   : AIC=-2894.403, Time=0.53 sec\n",
      " ARIMA(4,1,2)(0,0,0)[0] intercept   : AIC=-2896.257, Time=0.90 sec\n",
      " ARIMA(3,1,1)(0,0,0)[0]             : AIC=-2892.935, Time=0.08 sec\n",
      "\n",
      "Best model:  ARIMA(3,1,1)(0,0,0)[0] intercept\n",
      "Total fit time: 7.971 seconds\n"
     ]
    }
   ],
   "source": [
    "from pmdarima.arima import auto_arima\n",
    "step_wise=auto_arima(portfolio,\n",
    " start_p=1, start_q=1, \n",
    " max_p=7, max_q=7, \n",
    " d=1, max_d=7,\n",
    " trace=True, \n",
    " error_action='ignore', \n",
    " suppress_warnings=True, \n",
    " stepwise=True)"
   ]
  },
  {
   "cell_type": "code",
   "execution_count": 12,
   "metadata": {},
   "outputs": [
    {
     "data": {
      "text/html": [
       "<table class=\"simpletable\">\n",
       "<caption>SARIMAX Results</caption>\n",
       "<tr>\n",
       "  <th>Dep. Variable:</th>           <td>y</td>        <th>  No. Observations:  </th>    <td>538</td>   \n",
       "</tr>\n",
       "<tr>\n",
       "  <th>Model:</th>           <td>SARIMAX(3, 1, 1)</td> <th>  Log Likelihood     </th> <td>1471.089</td> \n",
       "</tr>\n",
       "<tr>\n",
       "  <th>Date:</th>            <td>Tue, 25 Aug 2020</td> <th>  AIC                </th> <td>-2930.179</td>\n",
       "</tr>\n",
       "<tr>\n",
       "  <th>Time:</th>                <td>16:47:46</td>     <th>  BIC                </th> <td>-2904.463</td>\n",
       "</tr>\n",
       "<tr>\n",
       "  <th>Sample:</th>                  <td>0</td>        <th>  HQIC               </th> <td>-2920.119</td>\n",
       "</tr>\n",
       "<tr>\n",
       "  <th></th>                      <td> - 538</td>      <th>                     </th>     <td> </td>    \n",
       "</tr>\n",
       "<tr>\n",
       "  <th>Covariance Type:</th>        <td>opg</td>       <th>                     </th>     <td> </td>    \n",
       "</tr>\n",
       "</table>\n",
       "<table class=\"simpletable\">\n",
       "<tr>\n",
       "      <td></td>         <th>coef</th>     <th>std err</th>      <th>z</th>      <th>P>|z|</th>  <th>[0.025</th>    <th>0.975]</th>  \n",
       "</tr>\n",
       "<tr>\n",
       "  <th>intercept</th> <td>    0.0007</td> <td>    0.001</td> <td>    0.493</td> <td> 0.622</td> <td>   -0.002</td> <td>    0.004</td>\n",
       "</tr>\n",
       "<tr>\n",
       "  <th>ar.L1</th>     <td>   -1.0752</td> <td>    0.031</td> <td>  -35.093</td> <td> 0.000</td> <td>   -1.135</td> <td>   -1.015</td>\n",
       "</tr>\n",
       "<tr>\n",
       "  <th>ar.L2</th>     <td>   -0.0098</td> <td>    0.033</td> <td>   -0.298</td> <td> 0.765</td> <td>   -0.075</td> <td>    0.055</td>\n",
       "</tr>\n",
       "<tr>\n",
       "  <th>ar.L3</th>     <td>    0.2630</td> <td>    0.023</td> <td>   11.554</td> <td> 0.000</td> <td>    0.218</td> <td>    0.308</td>\n",
       "</tr>\n",
       "<tr>\n",
       "  <th>ma.L1</th>     <td>    0.8980</td> <td>    0.026</td> <td>   34.025</td> <td> 0.000</td> <td>    0.846</td> <td>    0.950</td>\n",
       "</tr>\n",
       "<tr>\n",
       "  <th>sigma2</th>    <td>    0.0002</td> <td> 6.72e-06</td> <td>   35.759</td> <td> 0.000</td> <td>    0.000</td> <td>    0.000</td>\n",
       "</tr>\n",
       "</table>\n",
       "<table class=\"simpletable\">\n",
       "<tr>\n",
       "  <th>Ljung-Box (Q):</th>          <td>54.72</td> <th>  Jarque-Bera (JB):  </th> <td>1829.56</td>\n",
       "</tr>\n",
       "<tr>\n",
       "  <th>Prob(Q):</th>                <td>0.06</td>  <th>  Prob(JB):          </th>  <td>0.00</td>  \n",
       "</tr>\n",
       "<tr>\n",
       "  <th>Heteroskedasticity (H):</th> <td>4.83</td>  <th>  Skew:              </th>  <td>-1.01</td> \n",
       "</tr>\n",
       "<tr>\n",
       "  <th>Prob(H) (two-sided):</th>    <td>0.00</td>  <th>  Kurtosis:          </th>  <td>11.82</td> \n",
       "</tr>\n",
       "</table><br/><br/>Warnings:<br/>[1] Covariance matrix calculated using the outer product of gradients (complex-step)."
      ],
      "text/plain": [
       "<class 'statsmodels.iolib.summary.Summary'>\n",
       "\"\"\"\n",
       "                               SARIMAX Results                                \n",
       "==============================================================================\n",
       "Dep. Variable:                      y   No. Observations:                  538\n",
       "Model:               SARIMAX(3, 1, 1)   Log Likelihood                1471.089\n",
       "Date:                Tue, 25 Aug 2020   AIC                          -2930.179\n",
       "Time:                        16:47:46   BIC                          -2904.463\n",
       "Sample:                             0   HQIC                         -2920.119\n",
       "                                - 538                                         \n",
       "Covariance Type:                  opg                                         \n",
       "==============================================================================\n",
       "                 coef    std err          z      P>|z|      [0.025      0.975]\n",
       "------------------------------------------------------------------------------\n",
       "intercept      0.0007      0.001      0.493      0.622      -0.002       0.004\n",
       "ar.L1         -1.0752      0.031    -35.093      0.000      -1.135      -1.015\n",
       "ar.L2         -0.0098      0.033     -0.298      0.765      -0.075       0.055\n",
       "ar.L3          0.2630      0.023     11.554      0.000       0.218       0.308\n",
       "ma.L1          0.8980      0.026     34.025      0.000       0.846       0.950\n",
       "sigma2         0.0002   6.72e-06     35.759      0.000       0.000       0.000\n",
       "===================================================================================\n",
       "Ljung-Box (Q):                       54.72   Jarque-Bera (JB):              1829.56\n",
       "Prob(Q):                              0.06   Prob(JB):                         0.00\n",
       "Heteroskedasticity (H):               4.83   Skew:                            -1.01\n",
       "Prob(H) (two-sided):                  0.00   Kurtosis:                        11.82\n",
       "===================================================================================\n",
       "\n",
       "Warnings:\n",
       "[1] Covariance matrix calculated using the outer product of gradients (complex-step).\n",
       "\"\"\""
      ]
     },
     "execution_count": 12,
     "metadata": {},
     "output_type": "execute_result"
    }
   ],
   "source": [
    "step_wise.summary()"
   ]
  },
  {
   "cell_type": "markdown",
   "metadata": {},
   "source": [
    "## ARIMA Model"
   ]
  },
  {
   "cell_type": "code",
   "execution_count": 13,
   "metadata": {},
   "outputs": [],
   "source": [
    "from statsmodels.tsa.arima_model import ARIMA"
   ]
  },
  {
   "cell_type": "code",
   "execution_count": 14,
   "metadata": {},
   "outputs": [
    {
     "name": "stderr",
     "output_type": "stream",
     "text": [
      "C:\\Users\\Sungwon Kim\\anaconda3\\envs\\dev\\lib\\site-packages\\statsmodels\\tsa\\base\\tsa_model.py:218: ValueWarning: A date index has been provided, but it has no associated frequency information and so will be ignored when e.g. forecasting.\n",
      "  ' ignored when e.g. forecasting.', ValueWarning)\n",
      "C:\\Users\\Sungwon Kim\\anaconda3\\envs\\dev\\lib\\site-packages\\statsmodels\\tsa\\base\\tsa_model.py:218: ValueWarning: A date index has been provided, but it has no associated frequency information and so will be ignored when e.g. forecasting.\n",
      "  ' ignored when e.g. forecasting.', ValueWarning)\n"
     ]
    }
   ],
   "source": [
    "# Create an ARIMA model\n",
    "model = ARIMA(portfolio, order=(3, 1, 1))"
   ]
  },
  {
   "cell_type": "code",
   "execution_count": 15,
   "metadata": {},
   "outputs": [],
   "source": [
    "# Fit the model to the data\n",
    "results = model.fit()"
   ]
  },
  {
   "cell_type": "code",
   "execution_count": 16,
   "metadata": {},
   "outputs": [
    {
     "data": {
      "text/html": [
       "<table class=\"simpletable\">\n",
       "<caption>ARIMA Model Results</caption>\n",
       "<tr>\n",
       "  <th>Dep. Variable:</th> <td>D.Portfolio Return with Rebalancing</td> <th>  No. Observations:  </th>    <td>537</td>   \n",
       "</tr>\n",
       "<tr>\n",
       "  <th>Model:</th>                   <td>ARIMA(3, 1, 1)</td>            <th>  Log Likelihood     </th> <td>1471.208</td> \n",
       "</tr>\n",
       "<tr>\n",
       "  <th>Method:</th>                      <td>css-mle</td>               <th>  S.D. of innovations</th>   <td>0.016</td>  \n",
       "</tr>\n",
       "<tr>\n",
       "  <th>Date:</th>                   <td>Tue, 25 Aug 2020</td>           <th>  AIC                </th> <td>-2930.416</td>\n",
       "</tr>\n",
       "<tr>\n",
       "  <th>Time:</th>                       <td>16:47:47</td>               <th>  BIC                </th> <td>-2904.700</td>\n",
       "</tr>\n",
       "<tr>\n",
       "  <th>Sample:</th>                         <td>1</td>                  <th>  HQIC               </th> <td>-2920.356</td>\n",
       "</tr>\n",
       "<tr>\n",
       "  <th></th>                                <td> </td>                  <th>                     </th>     <td> </td>    \n",
       "</tr>\n",
       "</table>\n",
       "<table class=\"simpletable\">\n",
       "<tr>\n",
       "                      <td></td>                         <th>coef</th>     <th>std err</th>      <th>z</th>      <th>P>|z|</th>  <th>[0.025</th>    <th>0.975]</th>  \n",
       "</tr>\n",
       "<tr>\n",
       "  <th>const</th>                                     <td>    0.0004</td> <td>    0.001</td> <td>    0.559</td> <td> 0.576</td> <td>   -0.001</td> <td>    0.002</td>\n",
       "</tr>\n",
       "<tr>\n",
       "  <th>ar.L1.D.Portfolio Return with Rebalancing</th> <td>   -1.0943</td> <td>    0.051</td> <td>  -21.384</td> <td> 0.000</td> <td>   -1.195</td> <td>   -0.994</td>\n",
       "</tr>\n",
       "<tr>\n",
       "  <th>ar.L2.D.Portfolio Return with Rebalancing</th> <td>   -0.0282</td> <td>    0.064</td> <td>   -0.440</td> <td> 0.660</td> <td>   -0.154</td> <td>    0.097</td>\n",
       "</tr>\n",
       "<tr>\n",
       "  <th>ar.L3.D.Portfolio Return with Rebalancing</th> <td>    0.2508</td> <td>    0.043</td> <td>    5.785</td> <td> 0.000</td> <td>    0.166</td> <td>    0.336</td>\n",
       "</tr>\n",
       "<tr>\n",
       "  <th>ma.L1.D.Portfolio Return with Rebalancing</th> <td>    0.9078</td> <td>    0.035</td> <td>   26.050</td> <td> 0.000</td> <td>    0.839</td> <td>    0.976</td>\n",
       "</tr>\n",
       "</table>\n",
       "<table class=\"simpletable\">\n",
       "<caption>Roots</caption>\n",
       "<tr>\n",
       "    <td></td>   <th>            Real</th>  <th>         Imaginary</th> <th>         Modulus</th>  <th>        Frequency</th>\n",
       "</tr>\n",
       "<tr>\n",
       "  <th>AR.1</th> <td>          -1.1928</td> <td>          -0.4164j</td> <td>           1.2634</td> <td>          -0.4465</td>\n",
       "</tr>\n",
       "<tr>\n",
       "  <th>AR.2</th> <td>          -1.1928</td> <td>          +0.4164j</td> <td>           1.2634</td> <td>           0.4465</td>\n",
       "</tr>\n",
       "<tr>\n",
       "  <th>AR.3</th> <td>           2.4979</td> <td>          -0.0000j</td> <td>           2.4979</td> <td>          -0.0000</td>\n",
       "</tr>\n",
       "<tr>\n",
       "  <th>MA.1</th> <td>          -1.1016</td> <td>          +0.0000j</td> <td>           1.1016</td> <td>           0.5000</td>\n",
       "</tr>\n",
       "</table>"
      ],
      "text/plain": [
       "<class 'statsmodels.iolib.summary.Summary'>\n",
       "\"\"\"\n",
       "                                      ARIMA Model Results                                      \n",
       "===============================================================================================\n",
       "Dep. Variable:     D.Portfolio Return with Rebalancing   No. Observations:                  537\n",
       "Model:                                  ARIMA(3, 1, 1)   Log Likelihood                1471.208\n",
       "Method:                                        css-mle   S.D. of innovations              0.016\n",
       "Date:                                 Tue, 25 Aug 2020   AIC                          -2930.416\n",
       "Time:                                         16:47:47   BIC                          -2904.700\n",
       "Sample:                                              1   HQIC                         -2920.356\n",
       "                                                                                               \n",
       "=============================================================================================================\n",
       "                                                coef    std err          z      P>|z|      [0.025      0.975]\n",
       "-------------------------------------------------------------------------------------------------------------\n",
       "const                                         0.0004      0.001      0.559      0.576      -0.001       0.002\n",
       "ar.L1.D.Portfolio Return with Rebalancing    -1.0943      0.051    -21.384      0.000      -1.195      -0.994\n",
       "ar.L2.D.Portfolio Return with Rebalancing    -0.0282      0.064     -0.440      0.660      -0.154       0.097\n",
       "ar.L3.D.Portfolio Return with Rebalancing     0.2508      0.043      5.785      0.000       0.166       0.336\n",
       "ma.L1.D.Portfolio Return with Rebalancing     0.9078      0.035     26.050      0.000       0.839       0.976\n",
       "                                    Roots                                    \n",
       "=============================================================================\n",
       "                  Real          Imaginary           Modulus         Frequency\n",
       "-----------------------------------------------------------------------------\n",
       "AR.1           -1.1928           -0.4164j            1.2634           -0.4465\n",
       "AR.2           -1.1928           +0.4164j            1.2634            0.4465\n",
       "AR.3            2.4979           -0.0000j            2.4979           -0.0000\n",
       "MA.1           -1.1016           +0.0000j            1.1016            0.5000\n",
       "-----------------------------------------------------------------------------\n",
       "\"\"\""
      ]
     },
     "execution_count": 16,
     "metadata": {},
     "output_type": "execute_result"
    }
   ],
   "source": [
    "# Print the model summary\n",
    "results.summary()"
   ]
  },
  {
   "cell_type": "code",
   "execution_count": 18,
   "metadata": {},
   "outputs": [
    {
     "data": {
      "text/plain": [
       "<matplotlib.axes._subplots.AxesSubplot at 0x124edd7b308>"
      ]
     },
     "execution_count": 18,
     "metadata": {},
     "output_type": "execute_result"
    },
    {
     "data": {
      "image/png": "[encoded data removed]",
      "text/plain": [
       "<Figure size 432x288 with 1 Axes>"
      ]
     },
     "metadata": {
      "needs_background": "light"
     },
     "output_type": "display_data"
    }
   ],
   "source": [
    "# create a dataframe that holds the forecast values.\n",
    "return_forecast = pd.DataFrame(results.forecast(steps=30)[0])\n",
    "# Visualize the forecast\n",
    "return_forecast.plot(title=\"Return Forecast\")"
   ]
  },
  {
   "cell_type": "markdown",
   "metadata": {},
   "source": [
    "## Forecast Market Return "
   ]
  },
  {
   "cell_type": "code",
   "execution_count": 21,
   "metadata": {},
   "outputs": [
    {
     "data": {
      "text/html": [
       "<div>\n",
       "<style scoped>\n",
       "    .dataframe tbody tr th:only-of-type {\n",
       "        vertical-align: middle;\n",
       "    }\n",
       "\n",
       "    .dataframe tbody tr th {\n",
       "        vertical-align: top;\n",
       "    }\n",
       "\n",
       "    .dataframe thead th {\n",
       "        text-align: right;\n",
       "    }\n",
       "</style>\n",
       "<table border=\"1\" class=\"dataframe\">\n",
       "  <thead>\n",
       "    <tr style=\"text-align: right;\">\n",
       "      <th></th>\n",
       "      <th>Market Return</th>\n",
       "    </tr>\n",
       "    <tr>\n",
       "      <th>Date</th>\n",
       "      <th></th>\n",
       "    </tr>\n",
       "  </thead>\n",
       "  <tbody>\n",
       "    <tr>\n",
       "      <th>2018-07-02</th>\n",
       "      <td>1.002766</td>\n",
       "    </tr>\n",
       "    <tr>\n",
       "      <th>2018-07-03</th>\n",
       "      <td>0.998673</td>\n",
       "    </tr>\n",
       "  </tbody>\n",
       "</table>\n",
       "</div>"
      ],
      "text/plain": [
       "            Market Return\n",
       "Date                     \n",
       "2018-07-02       1.002766\n",
       "2018-07-03       0.998673"
      ]
     },
     "execution_count": 21,
     "metadata": {},
     "output_type": "execute_result"
    }
   ],
   "source": [
    "market = df[\"Market Return\"].to_frame().dropna()\n",
    "market.head(2)"
   ]
  },
  {
   "cell_type": "code",
   "execution_count": 22,
   "metadata": {},
   "outputs": [
    {
     "name": "stdout",
     "output_type": "stream",
     "text": [
      "Performing stepwise search to minimize aic\n",
      " ARIMA(1,1,1)(0,0,0)[0] intercept   : AIC=-2959.148, Time=0.42 sec\n",
      " ARIMA(0,1,0)(0,0,0)[0] intercept   : AIC=-2920.412, Time=0.18 sec\n",
      " ARIMA(1,1,0)(0,0,0)[0] intercept   : AIC=-2955.463, Time=0.25 sec\n",
      " ARIMA(0,1,1)(0,0,0)[0] intercept   : AIC=-2945.649, Time=0.49 sec\n",
      " ARIMA(0,1,0)(0,0,0)[0]             : AIC=-2921.967, Time=0.08 sec\n",
      " ARIMA(2,1,1)(0,0,0)[0] intercept   : AIC=-2964.549, Time=1.31 sec\n",
      " ARIMA(2,1,0)(0,0,0)[0] intercept   : AIC=-2965.200, Time=0.40 sec\n",
      " ARIMA(3,1,0)(0,0,0)[0] intercept   : AIC=-2966.737, Time=0.63 sec\n",
      " ARIMA(4,1,0)(0,0,0)[0] intercept   : AIC=-2973.603, Time=0.51 sec\n",
      " ARIMA(5,1,0)(0,0,0)[0] intercept   : AIC=-2973.780, Time=0.56 sec\n",
      " ARIMA(6,1,0)(0,0,0)[0] intercept   : AIC=-2978.197, Time=0.40 sec\n",
      " ARIMA(7,1,0)(0,0,0)[0] intercept   : AIC=-3002.991, Time=0.85 sec\n",
      " ARIMA(7,1,1)(0,0,0)[0] intercept   : AIC=-3013.459, Time=2.53 sec\n",
      " ARIMA(6,1,1)(0,0,0)[0] intercept   : AIC=-3006.681, Time=2.53 sec\n",
      " ARIMA(7,1,2)(0,0,0)[0] intercept   : AIC=-3013.029, Time=2.85 sec\n",
      " ARIMA(6,1,2)(0,0,0)[0] intercept   : AIC=-2996.330, Time=2.52 sec\n",
      " ARIMA(7,1,1)(0,0,0)[0]             : AIC=-3015.508, Time=1.37 sec\n",
      " ARIMA(6,1,1)(0,0,0)[0]             : AIC=-3008.277, Time=1.23 sec\n",
      " ARIMA(7,1,0)(0,0,0)[0]             : AIC=-3004.534, Time=0.45 sec\n",
      " ARIMA(7,1,2)(0,0,0)[0]             : AIC=-3014.780, Time=1.78 sec\n",
      " ARIMA(6,1,0)(0,0,0)[0]             : AIC=-2979.529, Time=0.24 sec\n",
      " ARIMA(6,1,2)(0,0,0)[0]             : AIC=-2999.367, Time=1.35 sec\n",
      "\n",
      "Best model:  ARIMA(7,1,1)(0,0,0)[0]          \n",
      "Total fit time: 22.971 seconds\n"
     ]
    }
   ],
   "source": [
    "from pmdarima.arima import auto_arima\n",
    "step_wise=auto_arima(market,\n",
    " start_p=1, start_q=1, \n",
    " max_p=7, max_q=7, \n",
    " d=1, max_d=7,\n",
    " trace=True, \n",
    " error_action='ignore', \n",
    " suppress_warnings=True, \n",
    " stepwise=True)"
   ]
  },
  {
   "cell_type": "code",
   "execution_count": 23,
   "metadata": {},
   "outputs": [
    {
     "data": {
      "text/html": [
       "<table class=\"simpletable\">\n",
       "<caption>SARIMAX Results</caption>\n",
       "<tr>\n",
       "  <th>Dep. Variable:</th>           <td>y</td>        <th>  No. Observations:  </th>    <td>540</td>   \n",
       "</tr>\n",
       "<tr>\n",
       "  <th>Model:</th>           <td>SARIMAX(7, 1, 1)</td> <th>  Log Likelihood     </th> <td>1516.754</td> \n",
       "</tr>\n",
       "<tr>\n",
       "  <th>Date:</th>            <td>Mon, 24 Aug 2020</td> <th>  AIC                </th> <td>-3015.508</td>\n",
       "</tr>\n",
       "<tr>\n",
       "  <th>Time:</th>                <td>19:16:54</td>     <th>  BIC                </th> <td>-2976.900</td>\n",
       "</tr>\n",
       "<tr>\n",
       "  <th>Sample:</th>                  <td>0</td>        <th>  HQIC               </th> <td>-3000.407</td>\n",
       "</tr>\n",
       "<tr>\n",
       "  <th></th>                      <td> - 540</td>      <th>                     </th>     <td> </td>    \n",
       "</tr>\n",
       "<tr>\n",
       "  <th>Covariance Type:</th>        <td>opg</td>       <th>                     </th>     <td> </td>    \n",
       "</tr>\n",
       "</table>\n",
       "<table class=\"simpletable\">\n",
       "<tr>\n",
       "     <td></td>       <th>coef</th>     <th>std err</th>      <th>z</th>      <th>P>|z|</th>  <th>[0.025</th>    <th>0.975]</th>  \n",
       "</tr>\n",
       "<tr>\n",
       "  <th>ar.L1</th>  <td>   -0.6790</td> <td>    0.076</td> <td>   -8.957</td> <td> 0.000</td> <td>   -0.828</td> <td>   -0.530</td>\n",
       "</tr>\n",
       "<tr>\n",
       "  <th>ar.L2</th>  <td>    0.0710</td> <td>    0.031</td> <td>    2.298</td> <td> 0.022</td> <td>    0.010</td> <td>    0.131</td>\n",
       "</tr>\n",
       "<tr>\n",
       "  <th>ar.L3</th>  <td>    0.1468</td> <td>    0.031</td> <td>    4.793</td> <td> 0.000</td> <td>    0.087</td> <td>    0.207</td>\n",
       "</tr>\n",
       "<tr>\n",
       "  <th>ar.L4</th>  <td>   -0.0918</td> <td>    0.031</td> <td>   -2.994</td> <td> 0.003</td> <td>   -0.152</td> <td>   -0.032</td>\n",
       "</tr>\n",
       "<tr>\n",
       "  <th>ar.L5</th>  <td>   -0.0488</td> <td>    0.037</td> <td>   -1.312</td> <td> 0.190</td> <td>   -0.122</td> <td>    0.024</td>\n",
       "</tr>\n",
       "<tr>\n",
       "  <th>ar.L6</th>  <td>   -0.0322</td> <td>    0.034</td> <td>   -0.943</td> <td> 0.346</td> <td>   -0.099</td> <td>    0.035</td>\n",
       "</tr>\n",
       "<tr>\n",
       "  <th>ar.L7</th>  <td>    0.1898</td> <td>    0.033</td> <td>    5.763</td> <td> 0.000</td> <td>    0.125</td> <td>    0.254</td>\n",
       "</tr>\n",
       "<tr>\n",
       "  <th>ma.L1</th>  <td>    0.5529</td> <td>    0.078</td> <td>    7.094</td> <td> 0.000</td> <td>    0.400</td> <td>    0.706</td>\n",
       "</tr>\n",
       "<tr>\n",
       "  <th>sigma2</th> <td>    0.0002</td> <td> 6.21e-06</td> <td>   33.305</td> <td> 0.000</td> <td>    0.000</td> <td>    0.000</td>\n",
       "</tr>\n",
       "</table>\n",
       "<table class=\"simpletable\">\n",
       "<tr>\n",
       "  <th>Ljung-Box (Q):</th>          <td>36.03</td> <th>  Jarque-Bera (JB):  </th> <td>1420.26</td>\n",
       "</tr>\n",
       "<tr>\n",
       "  <th>Prob(Q):</th>                <td>0.65</td>  <th>  Prob(JB):          </th>  <td>0.00</td>  \n",
       "</tr>\n",
       "<tr>\n",
       "  <th>Heteroskedasticity (H):</th> <td>4.07</td>  <th>  Skew:              </th>  <td>-0.96</td> \n",
       "</tr>\n",
       "<tr>\n",
       "  <th>Prob(H) (two-sided):</th>    <td>0.00</td>  <th>  Kurtosis:          </th>  <td>10.72</td> \n",
       "</tr>\n",
       "</table><br/><br/>Warnings:<br/>[1] Covariance matrix calculated using the outer product of gradients (complex-step)."
      ],
      "text/plain": [
       "<class 'statsmodels.iolib.summary.Summary'>\n",
       "\"\"\"\n",
       "                               SARIMAX Results                                \n",
       "==============================================================================\n",
       "Dep. Variable:                      y   No. Observations:                  540\n",
       "Model:               SARIMAX(7, 1, 1)   Log Likelihood                1516.754\n",
       "Date:                Mon, 24 Aug 2020   AIC                          -3015.508\n",
       "Time:                        19:16:54   BIC                          -2976.900\n",
       "Sample:                             0   HQIC                         -3000.407\n",
       "                                - 540                                         \n",
       "Covariance Type:                  opg                                         \n",
       "==============================================================================\n",
       "                 coef    std err          z      P>|z|      [0.025      0.975]\n",
       "------------------------------------------------------------------------------\n",
       "ar.L1         -0.6790      0.076     -8.957      0.000      -0.828      -0.530\n",
       "ar.L2          0.0710      0.031      2.298      0.022       0.010       0.131\n",
       "ar.L3          0.1468      0.031      4.793      0.000       0.087       0.207\n",
       "ar.L4         -0.0918      0.031     -2.994      0.003      -0.152      -0.032\n",
       "ar.L5         -0.0488      0.037     -1.312      0.190      -0.122       0.024\n",
       "ar.L6         -0.0322      0.034     -0.943      0.346      -0.099       0.035\n",
       "ar.L7          0.1898      0.033      5.763      0.000       0.125       0.254\n",
       "ma.L1          0.5529      0.078      7.094      0.000       0.400       0.706\n",
       "sigma2         0.0002   6.21e-06     33.305      0.000       0.000       0.000\n",
       "===================================================================================\n",
       "Ljung-Box (Q):                       36.03   Jarque-Bera (JB):              1420.26\n",
       "Prob(Q):                              0.65   Prob(JB):                         0.00\n",
       "Heteroskedasticity (H):               4.07   Skew:                            -0.96\n",
       "Prob(H) (two-sided):                  0.00   Kurtosis:                        10.72\n",
       "===================================================================================\n",
       "\n",
       "Warnings:\n",
       "[1] Covariance matrix calculated using the outer product of gradients (complex-step).\n",
       "\"\"\""
      ]
     },
     "execution_count": 23,
     "metadata": {},
     "output_type": "execute_result"
    }
   ],
   "source": [
    "step_wise.summary()"
   ]
  },
  {
   "cell_type": "code",
   "execution_count": 24,
   "metadata": {},
   "outputs": [
    {
     "name": "stderr",
     "output_type": "stream",
     "text": [
      "C:\\Users\\Sungwon Kim\\anaconda3\\envs\\dev\\lib\\site-packages\\statsmodels\\tsa\\base\\tsa_model.py:218: ValueWarning: A date index has been provided, but it has no associated frequency information and so will be ignored when e.g. forecasting.\n",
      "  ' ignored when e.g. forecasting.', ValueWarning)\n",
      "C:\\Users\\Sungwon Kim\\anaconda3\\envs\\dev\\lib\\site-packages\\statsmodels\\tsa\\base\\tsa_model.py:218: ValueWarning: A date index has been provided, but it has no associated frequency information and so will be ignored when e.g. forecasting.\n",
      "  ' ignored when e.g. forecasting.', ValueWarning)\n"
     ]
    }
   ],
   "source": [
    "# Create an ARIMA model\n",
    "model_1 = ARIMA(market, order=(7, 1, 1))"
   ]
  },
  {
   "cell_type": "code",
   "execution_count": 25,
   "metadata": {},
   "outputs": [],
   "source": [
    "# Fit the model to the data\n",
    "results_1 = model_1.fit()"
   ]
  },
  {
   "cell_type": "code",
   "execution_count": 26,
   "metadata": {},
   "outputs": [
    {
     "data": {
      "text/html": [
       "<table class=\"simpletable\">\n",
       "<caption>ARIMA Model Results</caption>\n",
       "<tr>\n",
       "  <th>Dep. Variable:</th>  <td>D.Market Return</td> <th>  No. Observations:  </th>    <td>539</td>   \n",
       "</tr>\n",
       "<tr>\n",
       "  <th>Model:</th>          <td>ARIMA(7, 1, 1)</td>  <th>  Log Likelihood     </th> <td>1517.254</td> \n",
       "</tr>\n",
       "<tr>\n",
       "  <th>Method:</th>             <td>css-mle</td>     <th>  S.D. of innovations</th>   <td>0.014</td>  \n",
       "</tr>\n",
       "<tr>\n",
       "  <th>Date:</th>          <td>Mon, 24 Aug 2020</td> <th>  AIC                </th> <td>-3014.508</td>\n",
       "</tr>\n",
       "<tr>\n",
       "  <th>Time:</th>              <td>19:18:44</td>     <th>  BIC                </th> <td>-2971.611</td>\n",
       "</tr>\n",
       "<tr>\n",
       "  <th>Sample:</th>                <td>1</td>        <th>  HQIC               </th> <td>-2997.730</td>\n",
       "</tr>\n",
       "<tr>\n",
       "  <th></th>                       <td> </td>        <th>                     </th>     <td> </td>    \n",
       "</tr>\n",
       "</table>\n",
       "<table class=\"simpletable\">\n",
       "<tr>\n",
       "            <td></td>               <th>coef</th>     <th>std err</th>      <th>z</th>      <th>P>|z|</th>  <th>[0.025</th>    <th>0.975]</th>  \n",
       "</tr>\n",
       "<tr>\n",
       "  <th>const</th>                 <td>    0.0005</td> <td>    0.001</td> <td>    0.713</td> <td> 0.476</td> <td>   -0.001</td> <td>    0.002</td>\n",
       "</tr>\n",
       "<tr>\n",
       "  <th>ar.L1.D.Market Return</th> <td>   -0.7102</td> <td>    0.102</td> <td>   -6.949</td> <td> 0.000</td> <td>   -0.911</td> <td>   -0.510</td>\n",
       "</tr>\n",
       "<tr>\n",
       "  <th>ar.L2.D.Market Return</th> <td>    0.0517</td> <td>    0.055</td> <td>    0.935</td> <td> 0.350</td> <td>   -0.057</td> <td>    0.160</td>\n",
       "</tr>\n",
       "<tr>\n",
       "  <th>ar.L3.D.Market Return</th> <td>    0.1546</td> <td>    0.054</td> <td>    2.860</td> <td> 0.004</td> <td>    0.049</td> <td>    0.261</td>\n",
       "</tr>\n",
       "<tr>\n",
       "  <th>ar.L4.D.Market Return</th> <td>   -0.0804</td> <td>    0.053</td> <td>   -1.524</td> <td> 0.127</td> <td>   -0.184</td> <td>    0.023</td>\n",
       "</tr>\n",
       "<tr>\n",
       "  <th>ar.L5.D.Market Return</th> <td>   -0.0477</td> <td>    0.052</td> <td>   -0.909</td> <td> 0.363</td> <td>   -0.151</td> <td>    0.055</td>\n",
       "</tr>\n",
       "<tr>\n",
       "  <th>ar.L6.D.Market Return</th> <td>   -0.0408</td> <td>    0.052</td> <td>   -0.784</td> <td> 0.433</td> <td>   -0.143</td> <td>    0.061</td>\n",
       "</tr>\n",
       "<tr>\n",
       "  <th>ar.L7.D.Market Return</th> <td>    0.1661</td> <td>    0.050</td> <td>    3.330</td> <td> 0.001</td> <td>    0.068</td> <td>    0.264</td>\n",
       "</tr>\n",
       "<tr>\n",
       "  <th>ma.L1.D.Market Return</th> <td>    0.5702</td> <td>    0.098</td> <td>    5.799</td> <td> 0.000</td> <td>    0.377</td> <td>    0.763</td>\n",
       "</tr>\n",
       "</table>\n",
       "<table class=\"simpletable\">\n",
       "<caption>Roots</caption>\n",
       "<tr>\n",
       "    <td></td>   <th>            Real</th>  <th>         Imaginary</th> <th>         Modulus</th>  <th>        Frequency</th>\n",
       "</tr>\n",
       "<tr>\n",
       "  <th>AR.1</th> <td>          -0.9965</td> <td>          -0.4353j</td> <td>           1.0874</td> <td>          -0.4345</td>\n",
       "</tr>\n",
       "<tr>\n",
       "  <th>AR.2</th> <td>          -0.9965</td> <td>          +0.4353j</td> <td>           1.0874</td> <td>           0.4345</td>\n",
       "</tr>\n",
       "<tr>\n",
       "  <th>AR.3</th> <td>          -0.5162</td> <td>          -1.2078j</td> <td>           1.3135</td> <td>          -0.3143</td>\n",
       "</tr>\n",
       "<tr>\n",
       "  <th>AR.4</th> <td>          -0.5162</td> <td>          +1.2078j</td> <td>           1.3135</td> <td>           0.3143</td>\n",
       "</tr>\n",
       "<tr>\n",
       "  <th>AR.5</th> <td>           0.8953</td> <td>          -1.0916j</td> <td>           1.4118</td> <td>          -0.1407</td>\n",
       "</tr>\n",
       "<tr>\n",
       "  <th>AR.6</th> <td>           0.8953</td> <td>          +1.0916j</td> <td>           1.4118</td> <td>           0.1407</td>\n",
       "</tr>\n",
       "<tr>\n",
       "  <th>AR.7</th> <td>           1.4808</td> <td>          -0.0000j</td> <td>           1.4808</td> <td>          -0.0000</td>\n",
       "</tr>\n",
       "<tr>\n",
       "  <th>MA.1</th> <td>          -1.7537</td> <td>          +0.0000j</td> <td>           1.7537</td> <td>           0.5000</td>\n",
       "</tr>\n",
       "</table>"
      ],
      "text/plain": [
       "<class 'statsmodels.iolib.summary.Summary'>\n",
       "\"\"\"\n",
       "                             ARIMA Model Results                              \n",
       "==============================================================================\n",
       "Dep. Variable:        D.Market Return   No. Observations:                  539\n",
       "Model:                 ARIMA(7, 1, 1)   Log Likelihood                1517.254\n",
       "Method:                       css-mle   S.D. of innovations              0.014\n",
       "Date:                Mon, 24 Aug 2020   AIC                          -3014.508\n",
       "Time:                        19:18:44   BIC                          -2971.611\n",
       "Sample:                             1   HQIC                         -2997.730\n",
       "                                                                              \n",
       "=========================================================================================\n",
       "                            coef    std err          z      P>|z|      [0.025      0.975]\n",
       "-----------------------------------------------------------------------------------------\n",
       "const                     0.0005      0.001      0.713      0.476      -0.001       0.002\n",
       "ar.L1.D.Market Return    -0.7102      0.102     -6.949      0.000      -0.911      -0.510\n",
       "ar.L2.D.Market Return     0.0517      0.055      0.935      0.350      -0.057       0.160\n",
       "ar.L3.D.Market Return     0.1546      0.054      2.860      0.004       0.049       0.261\n",
       "ar.L4.D.Market Return    -0.0804      0.053     -1.524      0.127      -0.184       0.023\n",
       "ar.L5.D.Market Return    -0.0477      0.052     -0.909      0.363      -0.151       0.055\n",
       "ar.L6.D.Market Return    -0.0408      0.052     -0.784      0.433      -0.143       0.061\n",
       "ar.L7.D.Market Return     0.1661      0.050      3.330      0.001       0.068       0.264\n",
       "ma.L1.D.Market Return     0.5702      0.098      5.799      0.000       0.377       0.763\n",
       "                                    Roots                                    \n",
       "=============================================================================\n",
       "                  Real          Imaginary           Modulus         Frequency\n",
       "-----------------------------------------------------------------------------\n",
       "AR.1           -0.9965           -0.4353j            1.0874           -0.4345\n",
       "AR.2           -0.9965           +0.4353j            1.0874            0.4345\n",
       "AR.3           -0.5162           -1.2078j            1.3135           -0.3143\n",
       "AR.4           -0.5162           +1.2078j            1.3135            0.3143\n",
       "AR.5            0.8953           -1.0916j            1.4118           -0.1407\n",
       "AR.6            0.8953           +1.0916j            1.4118            0.1407\n",
       "AR.7            1.4808           -0.0000j            1.4808           -0.0000\n",
       "MA.1           -1.7537           +0.0000j            1.7537            0.5000\n",
       "-----------------------------------------------------------------------------\n",
       "\"\"\""
      ]
     },
     "execution_count": 26,
     "metadata": {},
     "output_type": "execute_result"
    }
   ],
   "source": [
    "# Print the model summary\n",
    "results_1.summary()"
   ]
  },
  {
   "cell_type": "code",
   "execution_count": 31,
   "metadata": {
    "scrolled": true
   },
   "outputs": [
    {
     "data": {
      "text/plain": [
       "<matplotlib.axes._subplots.AxesSubplot at 0x11ec9637a48>"
      ]
     },
     "execution_count": 31,
     "metadata": {},
     "output_type": "execute_result"
    },
    {
     "data": {
      "image/png": "[encoded data removed]",
      "text/plain": [
       "<Figure size 432x288 with 1 Axes>"
      ]
     },
     "metadata": {
      "needs_background": "light"
     },
     "output_type": "display_data"
    }
   ],
   "source": [
    "# create a dataframe that holds the forecast values.\n",
    "market_return_forecast = pd.DataFrame(results_1.forecast(steps=30)[0])\n",
    "\n",
    "# Visualize the forecast\n",
    "market_return_forecast.plot(title=\"Market Return Forecast\")"
   ]
  },
  {
   "cell_type": "code",
   "execution_count": 39,
   "metadata": {
    "scrolled": true
   },
   "outputs": [
    {
     "data": {
      "text/html": [
       "<div>\n",
       "<style scoped>\n",
       "    .dataframe tbody tr th:only-of-type {\n",
       "        vertical-align: middle;\n",
       "    }\n",
       "\n",
       "    .dataframe tbody tr th {\n",
       "        vertical-align: top;\n",
       "    }\n",
       "\n",
       "    .dataframe thead th {\n",
       "        text-align: right;\n",
       "    }\n",
       "</style>\n",
       "<table border=\"1\" class=\"dataframe\">\n",
       "  <thead>\n",
       "    <tr style=\"text-align: right;\">\n",
       "      <th></th>\n",
       "      <th>Portfolio Return Forecast</th>\n",
       "      <th>Market Return Forecast</th>\n",
       "    </tr>\n",
       "  </thead>\n",
       "  <tbody>\n",
       "    <tr>\n",
       "      <th>0</th>\n",
       "      <td>1.205323</td>\n",
       "      <td>1.248187</td>\n",
       "    </tr>\n",
       "    <tr>\n",
       "      <th>1</th>\n",
       "      <td>1.210317</td>\n",
       "      <td>1.252302</td>\n",
       "    </tr>\n",
       "    <tr>\n",
       "      <th>2</th>\n",
       "      <td>1.207221</td>\n",
       "      <td>1.251030</td>\n",
       "    </tr>\n",
       "    <tr>\n",
       "      <th>3</th>\n",
       "      <td>1.210411</td>\n",
       "      <td>1.252436</td>\n",
       "    </tr>\n",
       "    <tr>\n",
       "      <th>4</th>\n",
       "      <td>1.208979</td>\n",
       "      <td>1.251764</td>\n",
       "    </tr>\n",
       "  </tbody>\n",
       "</table>\n",
       "</div>"
      ],
      "text/plain": [
       "   Portfolio Return Forecast  Market Return Forecast\n",
       "0                   1.205323                1.248187\n",
       "1                   1.210317                1.252302\n",
       "2                   1.207221                1.251030\n",
       "3                   1.210411                1.252436\n",
       "4                   1.208979                1.251764"
      ]
     },
     "execution_count": 39,
     "metadata": {},
     "output_type": "execute_result"
    }
   ],
   "source": [
    "# concatenate the dataframes\n",
    "forecast_df = pd.concat([return_forecast, market_return_forecast], axis=1)\n",
    "forecast_df.columns = [\"Portfolio Return Forecast\", \"Market Return Forecast\"]\n",
    "forecast_df.head()"
   ]
  },
  {
   "cell_type": "code",
   "execution_count": 42,
   "metadata": {},
   "outputs": [
    {
     "data": {
      "text/plain": [
       "<matplotlib.axes._subplots.AxesSubplot at 0x11ec9328588>"
      ]
     },
     "execution_count": 42,
     "metadata": {},
     "output_type": "execute_result"
    },
    {
     "data": {
      "image/png": "[encoded data removed]",
      "text/plain": [
       "<Figure size 432x288 with 1 Axes>"
      ]
     },
     "metadata": {
      "needs_background": "light"
     },
     "output_type": "display_data"
    }
   ],
   "source": [
    "\n",
    "forecast_df.plot()"
   ]
  },
  {
   "cell_type": "code",
   "execution_count": null,
   "metadata": {},
   "outputs": [],
   "source": []
  }
 ],
 "metadata": {
  "kernelspec": {
   "display_name": "Python 3",
   "language": "python",
   "name": "python3"
  },
  "language_info": {
   "codemirror_mode": {
    "name": "ipython",
    "version": 3
   },
   "file_extension": ".py",
   "mimetype": "text/x-python",
   "name": "python",
   "nbconvert_exporter": "python",
   "pygments_lexer": "ipython3",
   "version": "3.7.7"
  }
 },
 "nbformat": 4,
 "nbformat_minor": 4
}
