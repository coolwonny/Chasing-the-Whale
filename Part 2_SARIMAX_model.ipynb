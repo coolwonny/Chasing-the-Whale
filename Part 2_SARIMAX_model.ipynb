{
 "cells": [
  {
   "cell_type": "code",
   "execution_count": 1,
   "metadata": {},
   "outputs": [],
   "source": [
    "import pandas as pd\n",
    "import numpy as np\n",
    "import matplotlib.pyplot as plt\n",
    "import seaborn as sns\n",
    "from pandas.plotting import register_matplotlib_converters\n",
    "register_matplotlib_converters()\n",
    "%matplotlib inline"
   ]
  },
  {
   "cell_type": "code",
   "execution_count": 17,
   "metadata": {},
   "outputs": [
    {
     "data": {
      "text/html": [
       "<div>\n",
       "<style scoped>\n",
       "    .dataframe tbody tr th:only-of-type {\n",
       "        vertical-align: middle;\n",
       "    }\n",
       "\n",
       "    .dataframe tbody tr th {\n",
       "        vertical-align: top;\n",
       "    }\n",
       "\n",
       "    .dataframe thead th {\n",
       "        text-align: right;\n",
       "    }\n",
       "</style>\n",
       "<table border=\"1\" class=\"dataframe\">\n",
       "  <thead>\n",
       "    <tr style=\"text-align: right;\">\n",
       "      <th></th>\n",
       "      <th>Market Return</th>\n",
       "      <th>Portfolio Return without Rebalancing</th>\n",
       "      <th>Portfolio Return with Rebalancing</th>\n",
       "      <th>Portfolio Return with Lagged Rebalancing</th>\n",
       "    </tr>\n",
       "    <tr>\n",
       "      <th>Date</th>\n",
       "      <th></th>\n",
       "      <th></th>\n",
       "      <th></th>\n",
       "      <th></th>\n",
       "    </tr>\n",
       "  </thead>\n",
       "  <tbody>\n",
       "    <tr>\n",
       "      <th>2020-08-06</th>\n",
       "      <td>1.232752</td>\n",
       "      <td>1.180775</td>\n",
       "      <td>1.192096</td>\n",
       "      <td>1.131888</td>\n",
       "    </tr>\n",
       "    <tr>\n",
       "      <th>2020-08-07</th>\n",
       "      <td>1.233637</td>\n",
       "      <td>1.185307</td>\n",
       "      <td>1.193217</td>\n",
       "      <td>1.135988</td>\n",
       "    </tr>\n",
       "    <tr>\n",
       "      <th>2020-08-10</th>\n",
       "      <td>1.237324</td>\n",
       "      <td>1.189283</td>\n",
       "      <td>1.194952</td>\n",
       "      <td>1.139038</td>\n",
       "    </tr>\n",
       "    <tr>\n",
       "      <th>2020-08-11</th>\n",
       "      <td>1.227258</td>\n",
       "      <td>1.184985</td>\n",
       "      <td>1.188373</td>\n",
       "      <td>1.135230</td>\n",
       "    </tr>\n",
       "    <tr>\n",
       "      <th>2020-08-12</th>\n",
       "      <td>1.244220</td>\n",
       "      <td>1.197282</td>\n",
       "      <td>1.202515</td>\n",
       "      <td>1.146742</td>\n",
       "    </tr>\n",
       "    <tr>\n",
       "      <th>2020-08-17</th>\n",
       "      <td>1.245916</td>\n",
       "      <td>1.194151</td>\n",
       "      <td>1.200419</td>\n",
       "      <td>1.142858</td>\n",
       "    </tr>\n",
       "    <tr>\n",
       "      <th>2020-08-18</th>\n",
       "      <td>1.248645</td>\n",
       "      <td>1.194205</td>\n",
       "      <td>1.201130</td>\n",
       "      <td>1.143457</td>\n",
       "    </tr>\n",
       "    <tr>\n",
       "      <th>2020-08-19</th>\n",
       "      <td>1.243482</td>\n",
       "      <td>1.190578</td>\n",
       "      <td>1.197926</td>\n",
       "      <td>1.140422</td>\n",
       "    </tr>\n",
       "    <tr>\n",
       "      <th>2020-08-20</th>\n",
       "      <td>1.247281</td>\n",
       "      <td>1.192166</td>\n",
       "      <td>1.202183</td>\n",
       "      <td>1.144355</td>\n",
       "    </tr>\n",
       "    <tr>\n",
       "      <th>2020-08-21</th>\n",
       "      <td>1.251669</td>\n",
       "      <td>1.197009</td>\n",
       "      <td>1.208415</td>\n",
       "      <td>1.150222</td>\n",
       "    </tr>\n",
       "  </tbody>\n",
       "</table>\n",
       "</div>"
      ],
      "text/plain": [
       "            Market Return  Portfolio Return without Rebalancing  \\\n",
       "Date                                                              \n",
       "2020-08-06       1.232752                              1.180775   \n",
       "2020-08-07       1.233637                              1.185307   \n",
       "2020-08-10       1.237324                              1.189283   \n",
       "2020-08-11       1.227258                              1.184985   \n",
       "2020-08-12       1.244220                              1.197282   \n",
       "2020-08-17       1.245916                              1.194151   \n",
       "2020-08-18       1.248645                              1.194205   \n",
       "2020-08-19       1.243482                              1.190578   \n",
       "2020-08-20       1.247281                              1.192166   \n",
       "2020-08-21       1.251669                              1.197009   \n",
       "\n",
       "            Portfolio Return with Rebalancing  \\\n",
       "Date                                            \n",
       "2020-08-06                           1.192096   \n",
       "2020-08-07                           1.193217   \n",
       "2020-08-10                           1.194952   \n",
       "2020-08-11                           1.188373   \n",
       "2020-08-12                           1.202515   \n",
       "2020-08-17                           1.200419   \n",
       "2020-08-18                           1.201130   \n",
       "2020-08-19                           1.197926   \n",
       "2020-08-20                           1.202183   \n",
       "2020-08-21                           1.208415   \n",
       "\n",
       "            Portfolio Return with Lagged Rebalancing  \n",
       "Date                                                  \n",
       "2020-08-06                                  1.131888  \n",
       "2020-08-07                                  1.135988  \n",
       "2020-08-10                                  1.139038  \n",
       "2020-08-11                                  1.135230  \n",
       "2020-08-12                                  1.146742  \n",
       "2020-08-17                                  1.142858  \n",
       "2020-08-18                                  1.143457  \n",
       "2020-08-19                                  1.140422  \n",
       "2020-08-20                                  1.144355  \n",
       "2020-08-21                                  1.150222  "
      ]
     },
     "execution_count": 17,
     "metadata": {},
     "output_type": "execute_result"
    }
   ],
   "source": [
    "from pathlib import Path\n",
    "csvpath = Path('./Resources/berkshire_final.csv')\n",
    "df = pd.read_csv(csvpath, index_col='Date', parse_dates=True, infer_datetime_format=True)\n",
    "df.tail(10)"
   ]
  },
  {
   "cell_type": "code",
   "execution_count": 18,
   "metadata": {},
   "outputs": [
    {
     "data": {
      "text/html": [
       "<div>\n",
       "<style scoped>\n",
       "    .dataframe tbody tr th:only-of-type {\n",
       "        vertical-align: middle;\n",
       "    }\n",
       "\n",
       "    .dataframe tbody tr th {\n",
       "        vertical-align: top;\n",
       "    }\n",
       "\n",
       "    .dataframe thead th {\n",
       "        text-align: right;\n",
       "    }\n",
       "</style>\n",
       "<table border=\"1\" class=\"dataframe\">\n",
       "  <thead>\n",
       "    <tr style=\"text-align: right;\">\n",
       "      <th></th>\n",
       "      <th>Market Return</th>\n",
       "      <th>Portfolio Return without Rebalancing</th>\n",
       "      <th>Portfolio Return with Rebalancing</th>\n",
       "      <th>Portfolio Return with Lagged Rebalancing</th>\n",
       "    </tr>\n",
       "    <tr>\n",
       "      <th>Date</th>\n",
       "      <th></th>\n",
       "      <th></th>\n",
       "      <th></th>\n",
       "      <th></th>\n",
       "    </tr>\n",
       "  </thead>\n",
       "  <tbody>\n",
       "    <tr>\n",
       "      <th>2018-07-02</th>\n",
       "      <td>1.002766</td>\n",
       "      <td>1.003619</td>\n",
       "      <td>1.003619</td>\n",
       "      <td>NaN</td>\n",
       "    </tr>\n",
       "    <tr>\n",
       "      <th>2018-07-03</th>\n",
       "      <td>0.998673</td>\n",
       "      <td>0.996927</td>\n",
       "      <td>0.996927</td>\n",
       "      <td>NaN</td>\n",
       "    </tr>\n",
       "    <tr>\n",
       "      <th>2018-07-05</th>\n",
       "      <td>1.007006</td>\n",
       "      <td>1.005320</td>\n",
       "      <td>1.005320</td>\n",
       "      <td>NaN</td>\n",
       "    </tr>\n",
       "    <tr>\n",
       "      <th>2018-07-06</th>\n",
       "      <td>1.015414</td>\n",
       "      <td>1.011935</td>\n",
       "      <td>1.011935</td>\n",
       "      <td>NaN</td>\n",
       "    </tr>\n",
       "    <tr>\n",
       "      <th>2018-07-09</th>\n",
       "      <td>1.024706</td>\n",
       "      <td>1.024373</td>\n",
       "      <td>1.024373</td>\n",
       "      <td>NaN</td>\n",
       "    </tr>\n",
       "  </tbody>\n",
       "</table>\n",
       "</div>"
      ],
      "text/plain": [
       "            Market Return  Portfolio Return without Rebalancing  \\\n",
       "Date                                                              \n",
       "2018-07-02       1.002766                              1.003619   \n",
       "2018-07-03       0.998673                              0.996927   \n",
       "2018-07-05       1.007006                              1.005320   \n",
       "2018-07-06       1.015414                              1.011935   \n",
       "2018-07-09       1.024706                              1.024373   \n",
       "\n",
       "            Portfolio Return with Rebalancing  \\\n",
       "Date                                            \n",
       "2018-07-02                           1.003619   \n",
       "2018-07-03                           0.996927   \n",
       "2018-07-05                           1.005320   \n",
       "2018-07-06                           1.011935   \n",
       "2018-07-09                           1.024373   \n",
       "\n",
       "            Portfolio Return with Lagged Rebalancing  \n",
       "Date                                                  \n",
       "2018-07-02                                       NaN  \n",
       "2018-07-03                                       NaN  \n",
       "2018-07-05                                       NaN  \n",
       "2018-07-06                                       NaN  \n",
       "2018-07-09                                       NaN  "
      ]
     },
     "execution_count": 18,
     "metadata": {},
     "output_type": "execute_result"
    }
   ],
   "source": [
    "df = df.iloc[1:]\n",
    "df.head()"
   ]
  },
  {
   "cell_type": "code",
   "execution_count": 19,
   "metadata": {
    "scrolled": true
   },
   "outputs": [
    {
     "data": {
      "text/plain": [
       "<matplotlib.axes._subplots.AxesSubplot at 0x241f612e108>"
      ]
     },
     "execution_count": 19,
     "metadata": {},
     "output_type": "execute_result"
    },
    {
     "data": {
      "image/png": "[encoded data removed]",
      "text/plain": [
       "<Figure size 432x288 with 1 Axes>"
      ]
     },
     "metadata": {
      "needs_background": "light"
     },
     "output_type": "display_data"
    }
   ],
   "source": [
    "df.plot()"
   ]
  },
  {
   "cell_type": "code",
   "execution_count": 20,
   "metadata": {
    "scrolled": true
   },
   "outputs": [
    {
     "data": {
      "text/html": [
       "<div>\n",
       "<style scoped>\n",
       "    .dataframe tbody tr th:only-of-type {\n",
       "        vertical-align: middle;\n",
       "    }\n",
       "\n",
       "    .dataframe tbody tr th {\n",
       "        vertical-align: top;\n",
       "    }\n",
       "\n",
       "    .dataframe thead th {\n",
       "        text-align: right;\n",
       "    }\n",
       "</style>\n",
       "<table border=\"1\" class=\"dataframe\">\n",
       "  <thead>\n",
       "    <tr style=\"text-align: right;\">\n",
       "      <th></th>\n",
       "      <th>Market Return</th>\n",
       "      <th>Portfolio Return with Rebalancing</th>\n",
       "    </tr>\n",
       "    <tr>\n",
       "      <th>Date</th>\n",
       "      <th></th>\n",
       "      <th></th>\n",
       "    </tr>\n",
       "  </thead>\n",
       "  <tbody>\n",
       "    <tr>\n",
       "      <th>2018-07-02</th>\n",
       "      <td>1.002766</td>\n",
       "      <td>1.003619</td>\n",
       "    </tr>\n",
       "    <tr>\n",
       "      <th>2018-07-03</th>\n",
       "      <td>0.998673</td>\n",
       "      <td>0.996927</td>\n",
       "    </tr>\n",
       "  </tbody>\n",
       "</table>\n",
       "</div>"
      ],
      "text/plain": [
       "            Market Return  Portfolio Return with Rebalancing\n",
       "Date                                                        \n",
       "2018-07-02       1.002766                           1.003619\n",
       "2018-07-03       0.998673                           0.996927"
      ]
     },
     "execution_count": 20,
     "metadata": {},
     "output_type": "execute_result"
    }
   ],
   "source": [
    "# dropping out two columns\n",
    "dataset = df.drop(columns=['Portfolio Return without Rebalancing', 'Portfolio Return with Lagged Rebalancing'])\n",
    "dataset.head(2)"
   ]
  },
  {
   "cell_type": "code",
   "execution_count": 21,
   "metadata": {},
   "outputs": [
    {
     "data": {
      "text/html": [
       "<div>\n",
       "<style scoped>\n",
       "    .dataframe tbody tr th:only-of-type {\n",
       "        vertical-align: middle;\n",
       "    }\n",
       "\n",
       "    .dataframe tbody tr th {\n",
       "        vertical-align: top;\n",
       "    }\n",
       "\n",
       "    .dataframe thead th {\n",
       "        text-align: right;\n",
       "    }\n",
       "</style>\n",
       "<table border=\"1\" class=\"dataframe\">\n",
       "  <thead>\n",
       "    <tr style=\"text-align: right;\">\n",
       "      <th></th>\n",
       "      <th>Portfolio Return with Rebalancing</th>\n",
       "    </tr>\n",
       "    <tr>\n",
       "      <th>Date</th>\n",
       "      <th></th>\n",
       "    </tr>\n",
       "  </thead>\n",
       "  <tbody>\n",
       "    <tr>\n",
       "      <th>2018-07-02</th>\n",
       "      <td>1.003619</td>\n",
       "    </tr>\n",
       "    <tr>\n",
       "      <th>2018-07-03</th>\n",
       "      <td>0.996927</td>\n",
       "    </tr>\n",
       "  </tbody>\n",
       "</table>\n",
       "</div>"
      ],
      "text/plain": [
       "            Portfolio Return with Rebalancing\n",
       "Date                                         \n",
       "2018-07-02                           1.003619\n",
       "2018-07-03                           0.996927"
      ]
     },
     "execution_count": 21,
     "metadata": {},
     "output_type": "execute_result"
    }
   ],
   "source": [
    "portfolio = df[\"Portfolio Return with Rebalancing\"].to_frame().dropna()\n",
    "portfolio.head(2)"
   ]
  },
  {
   "cell_type": "code",
   "execution_count": 22,
   "metadata": {},
   "outputs": [
    {
     "name": "stdout",
     "output_type": "stream",
     "text": [
      "Performing stepwise search to minimize aic\n",
      " ARIMA(1,1,1)(0,0,0)[0] intercept   : AIC=-2886.713, Time=0.53 sec\n",
      " ARIMA(0,1,0)(0,0,0)[0] intercept   : AIC=-2842.876, Time=0.12 sec\n",
      " ARIMA(1,1,0)(0,0,0)[0] intercept   : AIC=-2883.445, Time=0.26 sec\n",
      " ARIMA(0,1,1)(0,0,0)[0] intercept   : AIC=-2872.225, Time=0.71 sec\n",
      " ARIMA(0,1,0)(0,0,0)[0]             : AIC=-2844.608, Time=0.04 sec\n",
      " ARIMA(2,1,1)(0,0,0)[0] intercept   : AIC=-2887.862, Time=0.90 sec\n",
      " ARIMA(2,1,0)(0,0,0)[0] intercept   : AIC=-2891.925, Time=0.23 sec\n",
      " ARIMA(3,1,0)(0,0,0)[0] intercept   : AIC=-2894.708, Time=0.24 sec\n",
      " ARIMA(4,1,0)(0,0,0)[0] intercept   : AIC=-2902.052, Time=0.76 sec\n",
      " ARIMA(5,1,0)(0,0,0)[0] intercept   : AIC=-2901.004, Time=1.26 sec\n",
      " ARIMA(4,1,1)(0,0,0)[0] intercept   : AIC=-2899.502, Time=0.46 sec\n",
      " ARIMA(3,1,1)(0,0,0)[0] intercept   : AIC=-2930.179, Time=1.38 sec\n",
      " ARIMA(3,1,2)(0,0,0)[0] intercept   : AIC=-2923.387, Time=1.41 sec\n",
      " ARIMA(2,1,2)(0,0,0)[0] intercept   : AIC=-2894.403, Time=0.69 sec\n",
      " ARIMA(4,1,2)(0,0,0)[0] intercept   : AIC=-2896.257, Time=1.28 sec\n",
      " ARIMA(3,1,1)(0,0,0)[0]             : AIC=-2892.935, Time=0.12 sec\n",
      "\n",
      "Best model:  ARIMA(3,1,1)(0,0,0)[0] intercept\n",
      "Total fit time: 10.402 seconds\n"
     ]
    }
   ],
   "source": [
    "from pmdarima.arima import auto_arima\n",
    "step_wise=auto_arima(portfolio,\n",
    " start_p=1, start_q=1, \n",
    " max_p=7, max_q=7, \n",
    " d=1, max_d=7,\n",
    " trace=True, \n",
    " error_action='ignore', \n",
    " suppress_warnings=True, \n",
    " stepwise=True)"
   ]
  },
  {
   "cell_type": "code",
   "execution_count": null,
   "metadata": {},
   "outputs": [],
   "source": [
    "step_wise.summary()"
   ]
  },
  {
   "cell_type": "markdown",
   "metadata": {},
   "source": [
    "## SARIMAX Model"
   ]
  },
  {
   "cell_type": "code",
   "execution_count": 23,
   "metadata": {},
   "outputs": [],
   "source": [
    "from statsmodels.tsa.statespace.sarimax import SARIMAX"
   ]
  },
  {
   "cell_type": "code",
   "execution_count": 24,
   "metadata": {},
   "outputs": [
    {
     "name": "stderr",
     "output_type": "stream",
     "text": [
      "C:\\Users\\Sungwon Kim\\anaconda3\\envs\\dev\\lib\\site-packages\\statsmodels\\tsa\\base\\tsa_model.py:218: ValueWarning: A date index has been provided, but it has no associated frequency information and so will be ignored when e.g. forecasting.\n",
      "  ' ignored when e.g. forecasting.', ValueWarning)\n",
      "C:\\Users\\Sungwon Kim\\anaconda3\\envs\\dev\\lib\\site-packages\\statsmodels\\tsa\\base\\tsa_model.py:218: ValueWarning: A date index has been provided, but it has no associated frequency information and so will be ignored when e.g. forecasting.\n",
      "  ' ignored when e.g. forecasting.', ValueWarning)\n"
     ]
    }
   ],
   "source": [
    "# Create a SARIMAX model\n",
    "model = SARIMAX(portfolio, order=(3, 1, 1))"
   ]
  },
  {
   "cell_type": "code",
   "execution_count": 25,
   "metadata": {},
   "outputs": [],
   "source": [
    "# Fit the model to the data\n",
    "results = model.fit()"
   ]
  },
  {
   "cell_type": "code",
   "execution_count": 26,
   "metadata": {},
   "outputs": [
    {
     "data": {
      "text/html": [
       "<table class=\"simpletable\">\n",
       "<caption>SARIMAX Results</caption>\n",
       "<tr>\n",
       "  <th>Dep. Variable:</th>   <td>Portfolio Return with Rebalancing</td> <th>  No. Observations:  </th>    <td>538</td>   \n",
       "</tr>\n",
       "<tr>\n",
       "  <th>Model:</th>                   <td>SARIMAX(3, 1, 1)</td>          <th>  Log Likelihood     </th> <td>1451.467</td> \n",
       "</tr>\n",
       "<tr>\n",
       "  <th>Date:</th>                    <td>Mon, 24 Aug 2020</td>          <th>  AIC                </th> <td>-2892.935</td>\n",
       "</tr>\n",
       "<tr>\n",
       "  <th>Time:</th>                        <td>23:31:04</td>              <th>  BIC                </th> <td>-2871.505</td>\n",
       "</tr>\n",
       "<tr>\n",
       "  <th>Sample:</th>                          <td>0</td>                 <th>  HQIC               </th> <td>-2884.552</td>\n",
       "</tr>\n",
       "<tr>\n",
       "  <th></th>                              <td> - 538</td>               <th>                     </th>     <td> </td>    \n",
       "</tr>\n",
       "<tr>\n",
       "  <th>Covariance Type:</th>                <td>opg</td>                <th>                     </th>     <td> </td>    \n",
       "</tr>\n",
       "</table>\n",
       "<table class=\"simpletable\">\n",
       "<tr>\n",
       "     <td></td>       <th>coef</th>     <th>std err</th>      <th>z</th>      <th>P>|z|</th>  <th>[0.025</th>    <th>0.975]</th>  \n",
       "</tr>\n",
       "<tr>\n",
       "  <th>ar.L1</th>  <td>   -0.1420</td> <td>    0.238</td> <td>   -0.596</td> <td> 0.551</td> <td>   -0.609</td> <td>    0.325</td>\n",
       "</tr>\n",
       "<tr>\n",
       "  <th>ar.L2</th>  <td>    0.1885</td> <td>    0.060</td> <td>    3.144</td> <td> 0.002</td> <td>    0.071</td> <td>    0.306</td>\n",
       "</tr>\n",
       "<tr>\n",
       "  <th>ar.L3</th>  <td>    0.0798</td> <td>    0.045</td> <td>    1.759</td> <td> 0.079</td> <td>   -0.009</td> <td>    0.169</td>\n",
       "</tr>\n",
       "<tr>\n",
       "  <th>ma.L1</th>  <td>   -0.1085</td> <td>    0.250</td> <td>   -0.435</td> <td> 0.664</td> <td>   -0.598</td> <td>    0.381</td>\n",
       "</tr>\n",
       "<tr>\n",
       "  <th>sigma2</th> <td>    0.0003</td> <td> 7.02e-06</td> <td>   37.421</td> <td> 0.000</td> <td>    0.000</td> <td>    0.000</td>\n",
       "</tr>\n",
       "</table>\n",
       "<table class=\"simpletable\">\n",
       "<tr>\n",
       "  <th>Ljung-Box (Q):</th>          <td>102.01</td> <th>  Jarque-Bera (JB):  </th> <td>2661.32</td>\n",
       "</tr>\n",
       "<tr>\n",
       "  <th>Prob(Q):</th>                 <td>0.00</td>  <th>  Prob(JB):          </th>  <td>0.00</td>  \n",
       "</tr>\n",
       "<tr>\n",
       "  <th>Heteroskedasticity (H):</th>  <td>5.38</td>  <th>  Skew:              </th>  <td>-1.01</td> \n",
       "</tr>\n",
       "<tr>\n",
       "  <th>Prob(H) (two-sided):</th>     <td>0.00</td>  <th>  Kurtosis:          </th>  <td>13.72</td> \n",
       "</tr>\n",
       "</table><br/><br/>Warnings:<br/>[1] Covariance matrix calculated using the outer product of gradients (complex-step)."
      ],
      "text/plain": [
       "<class 'statsmodels.iolib.summary.Summary'>\n",
       "\"\"\"\n",
       "                                       SARIMAX Results                                       \n",
       "=============================================================================================\n",
       "Dep. Variable:     Portfolio Return with Rebalancing   No. Observations:                  538\n",
       "Model:                              SARIMAX(3, 1, 1)   Log Likelihood                1451.467\n",
       "Date:                               Mon, 24 Aug 2020   AIC                          -2892.935\n",
       "Time:                                       23:31:04   BIC                          -2871.505\n",
       "Sample:                                            0   HQIC                         -2884.552\n",
       "                                               - 538                                         \n",
       "Covariance Type:                                 opg                                         \n",
       "==============================================================================\n",
       "                 coef    std err          z      P>|z|      [0.025      0.975]\n",
       "------------------------------------------------------------------------------\n",
       "ar.L1         -0.1420      0.238     -0.596      0.551      -0.609       0.325\n",
       "ar.L2          0.1885      0.060      3.144      0.002       0.071       0.306\n",
       "ar.L3          0.0798      0.045      1.759      0.079      -0.009       0.169\n",
       "ma.L1         -0.1085      0.250     -0.435      0.664      -0.598       0.381\n",
       "sigma2         0.0003   7.02e-06     37.421      0.000       0.000       0.000\n",
       "===================================================================================\n",
       "Ljung-Box (Q):                      102.01   Jarque-Bera (JB):              2661.32\n",
       "Prob(Q):                              0.00   Prob(JB):                         0.00\n",
       "Heteroskedasticity (H):               5.38   Skew:                            -1.01\n",
       "Prob(H) (two-sided):                  0.00   Kurtosis:                        13.72\n",
       "===================================================================================\n",
       "\n",
       "Warnings:\n",
       "[1] Covariance matrix calculated using the outer product of gradients (complex-step).\n",
       "\"\"\""
      ]
     },
     "execution_count": 26,
     "metadata": {},
     "output_type": "execute_result"
    }
   ],
   "source": [
    "# Print the model summary\n",
    "results.summary()"
   ]
  },
  {
   "cell_type": "code",
   "execution_count": 31,
   "metadata": {},
   "outputs": [
    {
     "name": "stderr",
     "output_type": "stream",
     "text": [
      "C:\\Users\\Sungwon Kim\\anaconda3\\envs\\dev\\lib\\site-packages\\statsmodels\\tsa\\base\\tsa_model.py:583: ValueWarning: No supported index is available. Prediction results will be given with an integer index beginning at `start`.\n",
      "  ValueWarning)\n"
     ]
    },
    {
     "data": {
      "text/plain": [
       "538    1.207236\n",
       "539    1.208918\n",
       "540    1.208954\n",
       "541    1.209171\n",
       "542    1.209281\n",
       "543    1.209310\n",
       "544    1.209344\n",
       "545    1.209353\n",
       "546    1.209360\n",
       "547    1.209364\n",
       "548    1.209366\n",
       "549    1.209367\n",
       "550    1.209367\n",
       "551    1.209367\n",
       "552    1.209367\n",
       "553    1.209367\n",
       "554    1.209367\n",
       "555    1.209367\n",
       "556    1.209367\n",
       "557    1.209367\n",
       "558    1.209367\n",
       "559    1.209367\n",
       "560    1.209367\n",
       "561    1.209367\n",
       "562    1.209367\n",
       "563    1.209367\n",
       "564    1.209367\n",
       "565    1.209367\n",
       "566    1.209367\n",
       "567    1.209367\n",
       "dtype: float64"
      ]
     },
     "execution_count": 31,
     "metadata": {},
     "output_type": "execute_result"
    }
   ],
   "source": [
    "results.forecast(steps=30)"
   ]
  },
  {
   "cell_type": "code",
   "execution_count": 32,
   "metadata": {},
   "outputs": [
    {
     "name": "stderr",
     "output_type": "stream",
     "text": [
      "C:\\Users\\Sungwon Kim\\anaconda3\\envs\\dev\\lib\\site-packages\\statsmodels\\tsa\\base\\tsa_model.py:583: ValueWarning: No supported index is available. Prediction results will be given with an integer index beginning at `start`.\n",
      "  ValueWarning)\n"
     ]
    },
    {
     "data": {
      "text/plain": [
       "<matplotlib.axes._subplots.AxesSubplot at 0x241f7d618c8>"
      ]
     },
     "execution_count": 32,
     "metadata": {},
     "output_type": "execute_result"
    },
    {
     "data": {
      "image/png": "[encoded data removed]",
      "text/plain": [
       "<Figure size 432x288 with 1 Axes>"
      ]
     },
     "metadata": {
      "needs_background": "light"
     },
     "output_type": "display_data"
    }
   ],
   "source": [
    "# create a dataframe that holds the forecast values.\n",
    "return_forecast = pd.DataFrame(results.forecast(steps=30))\n",
    "# Visualize the forecast\n",
    "return_forecast.plot(title=\"Return Forecast\")"
   ]
  },
  {
   "cell_type": "markdown",
   "metadata": {},
   "source": [
    "## Forecast Market Return"
   ]
  },
  {
   "cell_type": "code",
   "execution_count": 33,
   "metadata": {},
   "outputs": [
    {
     "data": {
      "text/html": [
       "<div>\n",
       "<style scoped>\n",
       "    .dataframe tbody tr th:only-of-type {\n",
       "        vertical-align: middle;\n",
       "    }\n",
       "\n",
       "    .dataframe tbody tr th {\n",
       "        vertical-align: top;\n",
       "    }\n",
       "\n",
       "    .dataframe thead th {\n",
       "        text-align: right;\n",
       "    }\n",
       "</style>\n",
       "<table border=\"1\" class=\"dataframe\">\n",
       "  <thead>\n",
       "    <tr style=\"text-align: right;\">\n",
       "      <th></th>\n",
       "      <th>Market Return</th>\n",
       "    </tr>\n",
       "    <tr>\n",
       "      <th>Date</th>\n",
       "      <th></th>\n",
       "    </tr>\n",
       "  </thead>\n",
       "  <tbody>\n",
       "    <tr>\n",
       "      <th>2018-07-02</th>\n",
       "      <td>1.002766</td>\n",
       "    </tr>\n",
       "    <tr>\n",
       "      <th>2018-07-03</th>\n",
       "      <td>0.998673</td>\n",
       "    </tr>\n",
       "  </tbody>\n",
       "</table>\n",
       "</div>"
      ],
      "text/plain": [
       "            Market Return\n",
       "Date                     \n",
       "2018-07-02       1.002766\n",
       "2018-07-03       0.998673"
      ]
     },
     "execution_count": 33,
     "metadata": {},
     "output_type": "execute_result"
    }
   ],
   "source": [
    "market = df[\"Market Return\"].to_frame().dropna()\n",
    "market.head(2)"
   ]
  },
  {
   "cell_type": "code",
   "execution_count": 34,
   "metadata": {},
   "outputs": [
    {
     "name": "stdout",
     "output_type": "stream",
     "text": [
      "Performing stepwise search to minimize aic\n",
      " ARIMA(1,1,1)(0,0,0)[0] intercept   : AIC=-2946.308, Time=0.64 sec\n",
      " ARIMA(0,1,0)(0,0,0)[0] intercept   : AIC=-2907.627, Time=0.14 sec\n",
      " ARIMA(1,1,0)(0,0,0)[0] intercept   : AIC=-2942.425, Time=0.30 sec\n",
      " ARIMA(0,1,1)(0,0,0)[0] intercept   : AIC=-2932.675, Time=0.29 sec\n",
      " ARIMA(0,1,0)(0,0,0)[0]             : AIC=-2909.181, Time=0.06 sec\n",
      " ARIMA(2,1,1)(0,0,0)[0] intercept   : AIC=-2951.490, Time=1.01 sec\n",
      " ARIMA(2,1,0)(0,0,0)[0] intercept   : AIC=-2952.185, Time=0.25 sec\n",
      " ARIMA(3,1,0)(0,0,0)[0] intercept   : AIC=-2953.594, Time=0.36 sec\n",
      " ARIMA(4,1,0)(0,0,0)[0] intercept   : AIC=-2960.419, Time=0.62 sec\n",
      " ARIMA(5,1,0)(0,0,0)[0] intercept   : AIC=-2960.733, Time=0.58 sec\n",
      " ARIMA(6,1,0)(0,0,0)[0] intercept   : AIC=-2965.183, Time=0.73 sec\n",
      " ARIMA(7,1,0)(0,0,0)[0] intercept   : AIC=-2989.695, Time=1.25 sec\n",
      " ARIMA(7,1,1)(0,0,0)[0] intercept   : AIC=-3000.175, Time=2.36 sec\n",
      " ARIMA(6,1,1)(0,0,0)[0] intercept   : AIC=-2992.149, Time=2.02 sec\n",
      " ARIMA(7,1,2)(0,0,0)[0] intercept   : AIC=-2999.774, Time=2.53 sec\n",
      " ARIMA(6,1,2)(0,0,0)[0] intercept   : AIC=-2981.812, Time=2.23 sec\n",
      " ARIMA(7,1,1)(0,0,0)[0]             : AIC=-3002.329, Time=1.31 sec\n",
      " ARIMA(6,1,1)(0,0,0)[0]             : AIC=-2995.324, Time=1.06 sec\n",
      " ARIMA(7,1,0)(0,0,0)[0]             : AIC=-2991.236, Time=0.44 sec\n",
      " ARIMA(7,1,2)(0,0,0)[0]             : AIC=-3001.363, Time=1.22 sec\n",
      " ARIMA(6,1,0)(0,0,0)[0]             : AIC=-2966.523, Time=0.38 sec\n",
      " ARIMA(6,1,2)(0,0,0)[0]             : AIC=-2987.011, Time=1.04 sec\n",
      "\n",
      "Best model:  ARIMA(7,1,1)(0,0,0)[0]          \n",
      "Total fit time: 20.818 seconds\n"
     ]
    }
   ],
   "source": [
    "from pmdarima.arima import auto_arima\n",
    "step_wise=auto_arima(market,\n",
    " start_p=1, start_q=1, \n",
    " max_p=7, max_q=7, \n",
    " d=1, max_d=7,\n",
    " trace=True, \n",
    " error_action='ignore', \n",
    " suppress_warnings=True, \n",
    " stepwise=True)"
   ]
  },
  {
   "cell_type": "code",
   "execution_count": null,
   "metadata": {},
   "outputs": [],
   "source": [
    "step_wise.summary()"
   ]
  },
  {
   "cell_type": "code",
   "execution_count": 35,
   "metadata": {},
   "outputs": [
    {
     "name": "stderr",
     "output_type": "stream",
     "text": [
      "C:\\Users\\Sungwon Kim\\anaconda3\\envs\\dev\\lib\\site-packages\\statsmodels\\tsa\\base\\tsa_model.py:218: ValueWarning: A date index has been provided, but it has no associated frequency information and so will be ignored when e.g. forecasting.\n",
      "  ' ignored when e.g. forecasting.', ValueWarning)\n",
      "C:\\Users\\Sungwon Kim\\anaconda3\\envs\\dev\\lib\\site-packages\\statsmodels\\tsa\\base\\tsa_model.py:218: ValueWarning: A date index has been provided, but it has no associated frequency information and so will be ignored when e.g. forecasting.\n",
      "  ' ignored when e.g. forecasting.', ValueWarning)\n"
     ]
    }
   ],
   "source": [
    "# Create an SARIMAX model\n",
    "model_1 = SARIMAX(market, order=(7, 1, 1))"
   ]
  },
  {
   "cell_type": "code",
   "execution_count": 36,
   "metadata": {},
   "outputs": [
    {
     "name": "stderr",
     "output_type": "stream",
     "text": [
      "C:\\Users\\Sungwon Kim\\anaconda3\\envs\\dev\\lib\\site-packages\\statsmodels\\base\\model.py:568: ConvergenceWarning: Maximum Likelihood optimization failed to converge. Check mle_retvals\n",
      "  \"Check mle_retvals\", ConvergenceWarning)\n"
     ]
    }
   ],
   "source": [
    "# Fit the model to the data\n",
    "results_1 = model_1.fit()"
   ]
  },
  {
   "cell_type": "code",
   "execution_count": 37,
   "metadata": {},
   "outputs": [
    {
     "data": {
      "text/html": [
       "<table class=\"simpletable\">\n",
       "<caption>SARIMAX Results</caption>\n",
       "<tr>\n",
       "  <th>Dep. Variable:</th>     <td>Market Return</td>  <th>  No. Observations:  </th>    <td>538</td>   \n",
       "</tr>\n",
       "<tr>\n",
       "  <th>Model:</th>           <td>SARIMAX(7, 1, 1)</td> <th>  Log Likelihood     </th> <td>1510.165</td> \n",
       "</tr>\n",
       "<tr>\n",
       "  <th>Date:</th>            <td>Mon, 24 Aug 2020</td> <th>  AIC                </th> <td>-3002.329</td>\n",
       "</tr>\n",
       "<tr>\n",
       "  <th>Time:</th>                <td>23:42:24</td>     <th>  BIC                </th> <td>-2963.755</td>\n",
       "</tr>\n",
       "<tr>\n",
       "  <th>Sample:</th>                  <td>0</td>        <th>  HQIC               </th> <td>-2987.239</td>\n",
       "</tr>\n",
       "<tr>\n",
       "  <th></th>                      <td> - 538</td>      <th>                     </th>     <td> </td>    \n",
       "</tr>\n",
       "<tr>\n",
       "  <th>Covariance Type:</th>        <td>opg</td>       <th>                     </th>     <td> </td>    \n",
       "</tr>\n",
       "</table>\n",
       "<table class=\"simpletable\">\n",
       "<tr>\n",
       "     <td></td>       <th>coef</th>     <th>std err</th>      <th>z</th>      <th>P>|z|</th>  <th>[0.025</th>    <th>0.975]</th>  \n",
       "</tr>\n",
       "<tr>\n",
       "  <th>ar.L1</th>  <td>   -0.6789</td> <td>    0.078</td> <td>   -8.699</td> <td> 0.000</td> <td>   -0.832</td> <td>   -0.526</td>\n",
       "</tr>\n",
       "<tr>\n",
       "  <th>ar.L2</th>  <td>    0.0733</td> <td>    0.031</td> <td>    2.332</td> <td> 0.020</td> <td>    0.012</td> <td>    0.135</td>\n",
       "</tr>\n",
       "<tr>\n",
       "  <th>ar.L3</th>  <td>    0.1520</td> <td>    0.031</td> <td>    4.874</td> <td> 0.000</td> <td>    0.091</td> <td>    0.213</td>\n",
       "</tr>\n",
       "<tr>\n",
       "  <th>ar.L4</th>  <td>   -0.0928</td> <td>    0.031</td> <td>   -2.981</td> <td> 0.003</td> <td>   -0.154</td> <td>   -0.032</td>\n",
       "</tr>\n",
       "<tr>\n",
       "  <th>ar.L5</th>  <td>   -0.0504</td> <td>    0.038</td> <td>   -1.328</td> <td> 0.184</td> <td>   -0.125</td> <td>    0.024</td>\n",
       "</tr>\n",
       "<tr>\n",
       "  <th>ar.L6</th>  <td>   -0.0294</td> <td>    0.035</td> <td>   -0.845</td> <td> 0.398</td> <td>   -0.097</td> <td>    0.039</td>\n",
       "</tr>\n",
       "<tr>\n",
       "  <th>ar.L7</th>  <td>    0.1906</td> <td>    0.033</td> <td>    5.712</td> <td> 0.000</td> <td>    0.125</td> <td>    0.256</td>\n",
       "</tr>\n",
       "<tr>\n",
       "  <th>ma.L1</th>  <td>    0.5496</td> <td>    0.080</td> <td>    6.837</td> <td> 0.000</td> <td>    0.392</td> <td>    0.707</td>\n",
       "</tr>\n",
       "<tr>\n",
       "  <th>sigma2</th> <td>    0.0002</td> <td> 6.42e-06</td> <td>   32.755</td> <td> 0.000</td> <td>    0.000</td> <td>    0.000</td>\n",
       "</tr>\n",
       "</table>\n",
       "<table class=\"simpletable\">\n",
       "<tr>\n",
       "  <th>Ljung-Box (Q):</th>          <td>35.81</td> <th>  Jarque-Bera (JB):  </th> <td>1410.14</td>\n",
       "</tr>\n",
       "<tr>\n",
       "  <th>Prob(Q):</th>                <td>0.66</td>  <th>  Prob(JB):          </th>  <td>0.00</td>  \n",
       "</tr>\n",
       "<tr>\n",
       "  <th>Heteroskedasticity (H):</th> <td>4.10</td>  <th>  Skew:              </th>  <td>-0.96</td> \n",
       "</tr>\n",
       "<tr>\n",
       "  <th>Prob(H) (two-sided):</th>    <td>0.00</td>  <th>  Kurtosis:          </th>  <td>10.70</td> \n",
       "</tr>\n",
       "</table><br/><br/>Warnings:<br/>[1] Covariance matrix calculated using the outer product of gradients (complex-step)."
      ],
      "text/plain": [
       "<class 'statsmodels.iolib.summary.Summary'>\n",
       "\"\"\"\n",
       "                               SARIMAX Results                                \n",
       "==============================================================================\n",
       "Dep. Variable:          Market Return   No. Observations:                  538\n",
       "Model:               SARIMAX(7, 1, 1)   Log Likelihood                1510.165\n",
       "Date:                Mon, 24 Aug 2020   AIC                          -3002.329\n",
       "Time:                        23:42:24   BIC                          -2963.755\n",
       "Sample:                             0   HQIC                         -2987.239\n",
       "                                - 538                                         \n",
       "Covariance Type:                  opg                                         \n",
       "==============================================================================\n",
       "                 coef    std err          z      P>|z|      [0.025      0.975]\n",
       "------------------------------------------------------------------------------\n",
       "ar.L1         -0.6789      0.078     -8.699      0.000      -0.832      -0.526\n",
       "ar.L2          0.0733      0.031      2.332      0.020       0.012       0.135\n",
       "ar.L3          0.1520      0.031      4.874      0.000       0.091       0.213\n",
       "ar.L4         -0.0928      0.031     -2.981      0.003      -0.154      -0.032\n",
       "ar.L5         -0.0504      0.038     -1.328      0.184      -0.125       0.024\n",
       "ar.L6         -0.0294      0.035     -0.845      0.398      -0.097       0.039\n",
       "ar.L7          0.1906      0.033      5.712      0.000       0.125       0.256\n",
       "ma.L1          0.5496      0.080      6.837      0.000       0.392       0.707\n",
       "sigma2         0.0002   6.42e-06     32.755      0.000       0.000       0.000\n",
       "===================================================================================\n",
       "Ljung-Box (Q):                       35.81   Jarque-Bera (JB):              1410.14\n",
       "Prob(Q):                              0.66   Prob(JB):                         0.00\n",
       "Heteroskedasticity (H):               4.10   Skew:                            -0.96\n",
       "Prob(H) (two-sided):                  0.00   Kurtosis:                        10.70\n",
       "===================================================================================\n",
       "\n",
       "Warnings:\n",
       "[1] Covariance matrix calculated using the outer product of gradients (complex-step).\n",
       "\"\"\""
      ]
     },
     "execution_count": 37,
     "metadata": {},
     "output_type": "execute_result"
    }
   ],
   "source": [
    "# Print the model summary\n",
    "results_1.summary()"
   ]
  },
  {
   "cell_type": "code",
   "execution_count": 39,
   "metadata": {},
   "outputs": [
    {
     "name": "stderr",
     "output_type": "stream",
     "text": [
      "C:\\Users\\Sungwon Kim\\anaconda3\\envs\\dev\\lib\\site-packages\\statsmodels\\tsa\\base\\tsa_model.py:583: ValueWarning: No supported index is available. Prediction results will be given with an integer index beginning at `start`.\n",
      "  ValueWarning)\n"
     ]
    },
    {
     "data": {
      "text/plain": [
       "<matplotlib.axes._subplots.AxesSubplot at 0x241fd9f8108>"
      ]
     },
     "execution_count": 39,
     "metadata": {},
     "output_type": "execute_result"
    },
    {
     "data": {
      "image/png": "[encoded data removed]",
      "text/plain": [
       "<Figure size 432x288 with 1 Axes>"
      ]
     },
     "metadata": {
      "needs_background": "light"
     },
     "output_type": "display_data"
    }
   ],
   "source": [
    "# create a dataframe that holds the forecast values.\n",
    "market_return_forecast = pd.DataFrame(results_1.forecast(steps=30))\n",
    "\n",
    "# Visualize the forecast\n",
    "market_return_forecast.plot(title=\"Market Return Forecast\")"
   ]
  },
  {
   "cell_type": "code",
   "execution_count": 40,
   "metadata": {},
   "outputs": [
    {
     "data": {
      "text/html": [
       "<div>\n",
       "<style scoped>\n",
       "    .dataframe tbody tr th:only-of-type {\n",
       "        vertical-align: middle;\n",
       "    }\n",
       "\n",
       "    .dataframe tbody tr th {\n",
       "        vertical-align: top;\n",
       "    }\n",
       "\n",
       "    .dataframe thead th {\n",
       "        text-align: right;\n",
       "    }\n",
       "</style>\n",
       "<table border=\"1\" class=\"dataframe\">\n",
       "  <thead>\n",
       "    <tr style=\"text-align: right;\">\n",
       "      <th></th>\n",
       "      <th>Portfolio Return Forecast</th>\n",
       "      <th>Market Return Forecast</th>\n",
       "    </tr>\n",
       "  </thead>\n",
       "  <tbody>\n",
       "    <tr>\n",
       "      <th>538</th>\n",
       "      <td>1.207236</td>\n",
       "      <td>1.247508</td>\n",
       "    </tr>\n",
       "    <tr>\n",
       "      <th>539</th>\n",
       "      <td>1.208918</td>\n",
       "      <td>1.254757</td>\n",
       "    </tr>\n",
       "    <tr>\n",
       "      <th>540</th>\n",
       "      <td>1.208954</td>\n",
       "      <td>1.250348</td>\n",
       "    </tr>\n",
       "    <tr>\n",
       "      <th>541</th>\n",
       "      <td>1.209171</td>\n",
       "      <td>1.253314</td>\n",
       "    </tr>\n",
       "    <tr>\n",
       "      <th>542</th>\n",
       "      <td>1.209281</td>\n",
       "      <td>1.251148</td>\n",
       "    </tr>\n",
       "  </tbody>\n",
       "</table>\n",
       "</div>"
      ],
      "text/plain": [
       "     Portfolio Return Forecast  Market Return Forecast\n",
       "538                   1.207236                1.247508\n",
       "539                   1.208918                1.254757\n",
       "540                   1.208954                1.250348\n",
       "541                   1.209171                1.253314\n",
       "542                   1.209281                1.251148"
      ]
     },
     "execution_count": 40,
     "metadata": {},
     "output_type": "execute_result"
    }
   ],
   "source": [
    "# concatenate the dataframes\n",
    "forecast_df = pd.concat([return_forecast, market_return_forecast], axis=1)\n",
    "forecast_df.columns = [\"Portfolio Return Forecast\", \"Market Return Forecast\"]\n",
    "forecast_df.head()"
   ]
  },
  {
   "cell_type": "code",
   "execution_count": 41,
   "metadata": {},
   "outputs": [
    {
     "data": {
      "text/plain": [
       "<matplotlib.axes._subplots.AxesSubplot at 0x241f7dc9ec8>"
      ]
     },
     "execution_count": 41,
     "metadata": {},
     "output_type": "execute_result"
    },
    {
     "data": {
      "image/png": "[encoded data removed]",
      "text/plain": [
       "<Figure size 432x288 with 1 Axes>"
      ]
     },
     "metadata": {
      "needs_background": "light"
     },
     "output_type": "display_data"
    }
   ],
   "source": [
    "forecast_df.plot()"
   ]
  }
 ],
 "metadata": {
  "kernelspec": {
   "display_name": "Python 3",
   "language": "python",
   "name": "python3"
  },
  "language_info": {
   "codemirror_mode": {
    "name": "ipython",
    "version": 3
   },
   "file_extension": ".py",
   "mimetype": "text/x-python",
   "name": "python",
   "nbconvert_exporter": "python",
   "pygments_lexer": "ipython3",
   "version": "3.7.7"
  }
 },
 "nbformat": 4,
 "nbformat_minor": 4
}
